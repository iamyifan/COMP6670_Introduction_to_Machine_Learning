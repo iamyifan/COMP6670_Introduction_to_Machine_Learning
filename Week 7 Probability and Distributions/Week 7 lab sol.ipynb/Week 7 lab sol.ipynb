{
 "cells": [
  {
   "cell_type": "markdown",
   "metadata": {},
   "source": [
    "**COMP3670/6670 Tutorial Week 7 - Regression**\n",
    "---"
   ]
  },
  {
   "cell_type": "markdown",
   "metadata": {},
   "source": [
    "THEORY SECTION\n",
    "--- "
   ]
  },
  {
   "cell_type": "markdown",
   "metadata": {},
   "source": [
    "Regression and gradient descent are pillars in machine learning. \n",
    "\n",
    "The first part of this tutorial to go over the lecture slides in regression and gradient descent.  \n",
    "\n",
    "**PRIORITIES:**\n",
    "1. Ensure you understand **every step** of (stochastic) gradient desent.\n",
    "2. Ensure you could can derive the gradient of regression problems with or without regression. \n",
    "\n",
    "Once that's all done, revisit the clustering section. Did you understand everything here as well? Unsupervised learning is important because it not only has immediate practical uses but is more relevant to the development of AGI (Artificial General Intelligence) than supervised (labelled) learning. If you don't understand this paragraph, please ask your tutor to clarify the meaning of supervised and unsupservised learning."
   ]
  },
  {
   "cell_type": "markdown",
   "metadata": {},
   "source": [
    "**PROGRAMMING SECTION**\n",
    "---\n",
    "\n",
    "We're going to do a simple scalar linear regression with gradient descent.\n",
    "\n",
    "\n",
    "-----------\n",
    "\n",
    "   **TASK:** \n",
    "   \n",
    "   1. Randomly generate a matrix $X \\in \\mathbb{R}^{m \\times n}$, where each row of $X$ is a training example.\n",
    "   2. Choose a vector $t \\in \\mathbb{R}^{n \\times 1}$.\n",
    "   3. Generate $Y$ by $Xt = Y$.\n",
    "   4. Then generate a random matrix $\\theta \\in \\mathbb{R}^{n \\times 1}$.\n",
    "   5. Implement gradient descent to approximate $t$ with $\\theta$.\n",
    "   6. Check your gradient descent algorithm correctly approximated $t$. Talk to your classmates and tutor to make sure if you're unsure.\n",
    "   7. Verify your answer with the closed form solution employing the Moore-Penrose inverse.\n",
    "   \n",
    "Note that in the above we're essentially pretending we don't know $t$. Obviously, if we have $t$, linear regression with gradient descent would be unnecessary, but the point is to help you understand what gradient descent is doing.\n",
    "\n",
    "\n",
    "-----------\n",
    "\n",
    "**GENERAL COURSE HINTS:** \n",
    "- $n$ can be any number you like, but be reasonable.\n",
    "- If you need extra study materials, Stanford and MIT both have some amazing freely available course content online. Look up \"Machine Learning Stanford CS229\" or \"CS221\" or \"CS221N\" for details.\n",
    "- Wikipedia is your friend. It's not always right, but it's always there for you."
   ]
  },
  {
   "cell_type": "code",
   "execution_count": 1,
   "metadata": {},
   "outputs": [
    {
     "data": {
      "image/png": "[encoded data removed]",
      "text/plain": [
       "<Figure size 432x288 with 1 Axes>"
      ]
     },
     "metadata": {
      "needs_background": "light"
     },
     "output_type": "display_data"
    },
    {
     "name": "stdout",
     "output_type": "stream",
     "text": [
      "Analytic Solution:\n",
      " [[ 0.96191081]\n",
      " [-1.63472546]\n",
      " [ 0.66975393]]\n",
      "Gradient Descent Solution:\n",
      " [[ 0.9525    ]\n",
      " [-1.62799664]\n",
      " [ 0.65430673]]\n",
      "t:\n",
      " [[ 0.96191081]\n",
      " [-1.63472546]\n",
      " [ 0.66975393]]\n"
     ]
    }
   ],
   "source": [
    "# YOUR CODE HERE.\n",
    "import numpy as np\n",
    "import matplotlib.pyplot as plt\n",
    "\n",
    "# set m,n\n",
    "m = 200\n",
    "n = 3\n",
    "\n",
    "# generate data\n",
    "X = np.random.randn(m, n)  # step 1\n",
    "t = np.random.randn(n, 1)  # step 2\n",
    "Y = X @ t# step 3\n",
    "theta = np.random.randn(n, 1)  # step 4\n",
    "\n",
    "# gradient descent \n",
    "epoch = 300\n",
    "lr = 0.01 # learning rate\n",
    "N = m\n",
    "loss_record = []\n",
    "for _ in range(epoch):\n",
    "    # for record\n",
    "    loss = (Y - X @ theta).T @ (Y - X @ theta) / N\n",
    "    loss_record.append(loss.item())\n",
    "    # update\n",
    "    gradient = (-2 * Y.T @ X + 2 * theta.T @ X.T @ X) / N\n",
    "    theta = theta - lr * gradient.T\n",
    "\n",
    "# plot\n",
    "plt.plot(loss_record)\n",
    "plt.xlabel('epoch')\n",
    "plt.ylabel('loss')\n",
    "plt.show()\n",
    "\n",
    "# check\n",
    "theta_closed_form = np.linalg.inv(X.T @ X) @ X.T @ Y\n",
    "print(\"Analytic Solution:\\n\", theta_closed_form)\n",
    "print(\"Gradient Descent Solution:\\n\", theta)\n",
    "print(\"t:\\n\", t)"
   ]
  },
  {
   "cell_type": "markdown",
   "metadata": {},
   "source": [
    "-----------\n",
    "**Extended Task:** We study various influence factors in training a linear regression model in this task.\n",
    "\n",
    "1. noise. When collecting real-world data, it is common that there would be noise included. Adding noise to your generated data and see how would this influence the parameter estimation.\n",
    "\n",
    "2. sample amount. Sometimes it is expensive to collect data while a lot of parameters need to be trained. Let's study the effect of training example amount. That is changing the $m$ for $X \\in \\mathbb{R}^{m \\times n}$ and compare the final loss fixing training epoch and learning rate. \n",
    "\n",
    "3. learning rate. How would the learning rate influence the convergence of the optimization process?\n",
    "\n",
    "-----------\n",
    "**Hint**\n",
    "- You can add noise by settting $Y=Xt+\\epsilon$ where $\\epsilon \\sim \\mathcal{N}(\\mu,\\sigma^2)$."
   ]
  },
  {
   "cell_type": "code",
   "execution_count": null,
   "metadata": {},
   "outputs": [],
   "source": [
    "# YOUR CODE HERE."
   ]
  },
  {
   "cell_type": "code",
   "execution_count": 2,
   "metadata": {},
   "outputs": [],
   "source": [
    "def gradient_descent(X,Y,epoch,lr):\n",
    "    N = X.shape[0]\n",
    "    theta = np.random.randn(X.shape[1], 1)  # parameter\n",
    "    loss = []\n",
    "    for _ in range(epoch):\n",
    "        loss.append(((Y - X @ theta).T @ (Y - X @ theta) / N).item())\n",
    "        theta = theta - lr * ((-2 * Y.T @ X + 2 * theta.T @ X.T @ X) / N).T # update\n",
    "    return theta,loss"
   ]
  },
  {
   "cell_type": "code",
   "execution_count": 3,
   "metadata": {},
   "outputs": [
    {
     "name": "stdout",
     "output_type": "stream",
     "text": [
      "Euclidean Distance:\n",
      "without noise\t 0.00030023491886784474\n",
      "noise\t\t 0.11943160916885565\n",
      "Gradient Descent Solution\n",
      "without noise：\n",
      " [[-1.53489754]\n",
      " [-0.79391168]\n",
      " [-0.31676272]]\n",
      "with noise：\n",
      " [[-1.55649534]\n",
      " [-0.91148281]\n",
      " [-0.31058471]]\n",
      "t:\n",
      " [[-1.53490825]\n",
      " [-0.79417325]\n",
      " [-0.31661573]]\n"
     ]
    }
   ],
   "source": [
    "# noise\n",
    "m = 200\n",
    "n = 3\n",
    "X = np.random.randn(m, n)\n",
    "t = np.random.randn(n, 1)\n",
    "Y = X @ t\n",
    "Y_tilde = X @ t + np.random.randn(m,1)\n",
    "theta_1,_=gradient_descent(X,Y,epoch=500,lr=0.01) # without noise\n",
    "theta_2,_=gradient_descent(X,Y_tilde,epoch=500,lr=0.01) # with noise\n",
    "\n",
    "print(\"Euclidean Distance:\")\n",
    "print(\"without noise\\t\",np.linalg.norm(theta_1-t))\n",
    "print(\"noise\\t\\t\",np.linalg.norm(theta_2-t))\n",
    "print(\"Gradient Descent Solution\")\n",
    "print(\"without noise：\\n\", theta_1)\n",
    "print(\"with noise：\\n\", theta_2)\n",
    "print(\"t:\\n\", t)"
   ]
  },
  {
   "cell_type": "code",
   "execution_count": 4,
   "metadata": {},
   "outputs": [
    {
     "data": {
      "image/png": "[encoded data removed]",
      "text/plain": [
       "<Figure size 432x288 with 1 Axes>"
      ]
     },
     "metadata": {
      "needs_background": "light"
     },
     "output_type": "display_data"
    }
   ],
   "source": [
    "# sample amount\n",
    "n = 3\n",
    "X = np.random.randn(100, n)\n",
    "Y = X @ np.random.randn(n, 1)\n",
    "# training\n",
    "all_loss_record=np.zeros(100-2)\n",
    "for i in range(10):\n",
    "    loss_record=[]\n",
    "    for m in range(2,100):\n",
    "        _,loss=gradient_descent(X[:m],Y[:m],epoch=500,lr=0.01)\n",
    "        loss_record.append(loss[-1])\n",
    "    all_loss_record+=np.array(loss_record)\n",
    "# plot\n",
    "plt.plot(all_loss_record)\n",
    "plt.xlabel('sample amount')\n",
    "plt.ylabel('loss')\n",
    "plt.show()"
   ]
  },
  {
   "cell_type": "code",
   "execution_count": 4,
   "metadata": {},
   "outputs": [
    {
     "data": {
      "image/png": "[encoded data removed]",
      "text/plain": [
       "<Figure size 1080x360 with 2 Axes>"
      ]
     },
     "metadata": {
      "needs_background": "light"
     },
     "output_type": "display_data"
    }
   ],
   "source": [
    "# learning rate\n",
    "m=100\n",
    "n = 3\n",
    "X = np.random.randn(m, n)\n",
    "Y = X @ np.random.randn(n, 1)\n",
    "# training\n",
    "loss_record={}\n",
    "for i in range(4):\n",
    "    lr=1/10**i\n",
    "    _,loss=gradient_descent(X,Y,epoch=300,lr=lr)\n",
    "    loss_record[str(lr)]=np.array(loss)\n",
    "    \n",
    "# plot\n",
    "fig=plt.figure(figsize=(15,5))\n",
    "fig.add_subplot(121)\n",
    "for i in range(3):\n",
    "    lr=0.1/10**i\n",
    "    plt.plot(loss_record[str(lr)],label='lr='+str(lr))\n",
    "plt.xlabel('epoch')\n",
    "plt.ylabel('loss')\n",
    "plt.legend()\n",
    "fig.add_subplot(122)\n",
    "plt.plot(loss_record[\"1.0\"],label='lr=1.0')\n",
    "plt.xlabel('epoch')\n",
    "plt.ylabel('loss')\n",
    "plt.legend()\n",
    "plt.show()"
   ]
  },
  {
   "cell_type": "markdown",
   "metadata": {},
   "source": []
  }
 ],
 "metadata": {
  "kernelspec": {
   "display_name": "Python 3 (ipykernel)",
   "language": "python",
   "name": "python3"
  },
  "language_info": {
   "codemirror_mode": {
    "name": "ipython",
    "version": 3
   },
   "file_extension": ".py",
   "mimetype": "text/x-python",
   "name": "python",
   "nbconvert_exporter": "python",
   "pygments_lexer": "ipython3",
   "version": "3.9.12"
  }
 },
 "nbformat": 4,
 "nbformat_minor": 4
}
