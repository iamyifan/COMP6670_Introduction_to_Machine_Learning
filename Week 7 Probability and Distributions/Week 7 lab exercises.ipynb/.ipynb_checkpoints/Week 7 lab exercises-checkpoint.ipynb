{
 "cells": [
  {
   "cell_type": "markdown",
   "metadata": {
    "pycharm": {
     "name": "#%% md\n"
    }
   },
   "source": [
    "**COMP3670/6670 Tutorial Week 7 - Regression**\n",
    "---"
   ]
  },
  {
   "cell_type": "markdown",
   "metadata": {
    "pycharm": {
     "name": "#%% md\n"
    }
   },
   "source": [
    "THEORY SECTION\n",
    "---"
   ]
  },
  {
   "cell_type": "markdown",
   "metadata": {
    "pycharm": {
     "name": "#%% md\n"
    }
   },
   "source": [
    "Regression and gradient descent are pillars in machine learning.  \n",
    "\n",
    "The first part of this tutorial to go over the lecture slides in regression and gradient descent.  \n",
    "\n",
    "**PRIORITIES:**\n",
    "1. Ensure you understand **every step** of (stochastic) gradient desent.\n",
    "2. Ensure you could can derive the gradient of regression problems with or without regression. \n",
    "\n",
    "Once that's all done, revisit the clustering section. Did you understand everything here as well? Unsupervised learning is important because it not only has immediate practical uses but is more relevant to the development of AGI (Artificial General Intelligence) than supervised (labelled) learning. If you don't understand this paragraph, please ask your tutor to clarify the meaning of supervised and unsupservised learning."
   ]
  },
  {
   "cell_type": "markdown",
   "metadata": {
    "pycharm": {
     "name": "#%% md\n"
    }
   },
   "source": [
    "**PROGRAMMING SECTION**\n",
    "---\n",
    "\n",
    "We're going to do a simple scalar linear regression with gradient descent.\n",
    "\n",
    "\n",
    "-----------\n",
    "\n",
    "   **TASK:** \n",
    "   \n",
    "   1. Randomly generate a matrix $X \\in \\mathbb{R}^{m \\times n}$, where each row of $X$ is a training example.\n",
    "   2. Choose a vector $t \\in \\mathbb{R}^{n \\times 1}$.\n",
    "   3. Generate $Y$ by $Xt = Y$.\n",
    "   4. Then generate a random matrix $\\theta \\in \\mathbb{R}^{n \\times 1}$.\n",
    "   5. Implement gradient descent to approximate $t$ with $\\theta$.\n",
    "   6. Check your gradient descent algorithm correctly approximated $t$. Talk to your classmates and tutor to make sure if you're unsure.\n",
    "   7. Verify your answer with the closed form solution employing the Moore-Penrose inverse.\n",
    "   \n",
    "Note that in the above we're essentially pretending we don't know $t$. Obviously, if we have $t$, linear regression with gradient descent would be unnecessary, but the point is to help you understand what gradient descent is doing.\n",
    "\n",
    "Also note: we should use the squared loss function, computed as the square of the difference between the predicted function values and the observed function values (or ground truth). \n",
    "\n",
    "\n",
    "-----------\n",
    "\n",
    "**GENERAL COURSE HINTS:** \n",
    "- $n$ can be any number you like, but be reasonable.\n",
    "- If you need extra study materials, Stanford and MIT both have some amazing freely available course content online. Look up \"Machine Learning Stanford CS229\" or \"CS221\" or \"CS221N\" for details.\n",
    "- Wikipedia is your friend. It's not always right, but it's always there for you."
   ]
  },
  {
   "cell_type": "code",
   "execution_count": 14,
   "metadata": {
    "ExecuteTime": {
     "end_time": "2022-09-23T04:07:10.980509Z",
     "start_time": "2022-09-23T04:07:10.956478Z"
    },
    "pycharm": {
     "name": "#%%\n"
    }
   },
   "outputs": [
    {
     "name": "stdout",
     "output_type": "stream",
     "text": [
      "True t: [0.59911031 0.01553328 0.59348141]\n"
     ]
    }
   ],
   "source": [
    "# YOUR CODE HERE.\n",
    "\n",
    "import numpy as np\n",
    "import matplotlib.pyplot as plt\n",
    "\n",
    "np.random.seed(1)\n",
    "\n",
    "m, n = 100, 3\n",
    "X = np.random.randint(-10, 10, size=(m, n))  # X, M * N matrix\n",
    "t = np.random.rand(n)  # t, 1 * N matrix\n",
    "y = X @ t  # y, 1 * N matrix\n",
    "\n",
    "print(\"True t:\", t)"
   ]
  },
  {
   "cell_type": "code",
   "execution_count": 46,
   "metadata": {
    "ExecuteTime": {
     "end_time": "2022-09-23T04:22:33.739480Z",
     "start_time": "2022-09-23T04:22:33.471707Z"
    }
   },
   "outputs": [
    {
     "name": "stdout",
     "output_type": "stream",
     "text": [
      "Stop training at No.195 epoch, current loss is 0.42836948510190687.\n",
      "GD t:  [0.58962075 0.01653752 0.584766  ]\n"
     ]
    },
    {
     "data": {
      "image/png": "[encoded data removed]",
      "text/plain": [
       "<Figure size 432x288 with 1 Axes>"
      ]
     },
     "metadata": {
      "needs_background": "light"
     },
     "output_type": "display_data"
    }
   ],
   "source": [
    "theta = np.random.rand(n)  # theta, 1 * N matrix\n",
    "\n",
    "\n",
    "def gradient_descent(X, y, theta, threshold = 1e-6, step_size = 0.5, \n",
    "                     batch_gd = True, batch_size = None, \n",
    "                     regularization = True, regularizer_param = 0.5):\n",
    "    if not regularization:\n",
    "        regularization_param = 0\n",
    "    if not batch_gd:\n",
    "        batch_size = X.shape[0]\n",
    "    losses = []\n",
    "    loss = np.Inf\n",
    "    while True:\n",
    "        theta = (1 - 2 * step_size * regularizer_param) * theta - step_size * (2 / len(X)) * (theta.T @ X.T @ X - y.T @ X)\n",
    "        batch = np.random.choice(y - X @ theta, size=batch_size)\n",
    "        loss = np.sum([diff ** 2 for diff in batch])\n",
    "        losses.append(loss)\n",
    "        if len(losses) > 1 and abs(losses[-1] - losses[-2]) <= threshold:\n",
    "            print(\"Stop training at No.{} epoch, current loss is {}.\".format(len(losses), loss))\n",
    "            break\n",
    "    return theta, losses\n",
    "    \n",
    "    \n",
    "theta_gd, loss_gd = gradient_descent(X, y, theta, threshold=1.1e-3, step_size=0.003, \n",
    "                                     batch_gd=True, batch_size=80,\n",
    "                                     regularization=True, regularizer_param=0.5)\n",
    "print(\"GD t: \", theta_gd)\n",
    "\n",
    "plt.plot(range(len(loss_gd)), loss_gd)\n",
    "plt.xlabel(\"epoch\")\n",
    "plt.ylabel(\"loss\")\n",
    "plt.grid()"
   ]
  },
  {
   "cell_type": "code",
   "execution_count": 11,
   "metadata": {
    "ExecuteTime": {
     "end_time": "2022-09-23T04:04:50.192824Z",
     "start_time": "2022-09-23T04:04:50.181495Z"
    }
   },
   "outputs": [
    {
     "name": "stdout",
     "output_type": "stream",
     "text": [
      "Closed form t:  [0.59911031 0.01553328 0.59348141]\n"
     ]
    }
   ],
   "source": [
    "theta_closed_form = np.linalg.inv(X.T @ X) @ X.T @ y\n",
    "print(\"Closed form t: \", theta_closed_form)"
   ]
  },
  {
   "cell_type": "markdown",
   "metadata": {
    "pycharm": {
     "name": "#%% md\n"
    }
   },
   "source": [
    "-----------\n",
    "**Extended Task:** We study various influence factors in training a linear regression model in this task.\n",
    "\n",
    "1. noise. When collecting real-world data, it is common that there would be noise included. Adding noise to your generated data and see how would this influence the parameter estimation.\n",
    "\n",
    "2. sample amount. Sometimes it is expensive to collect data while a lot of parameters need to be trained. Let's study the effect of training example amount. That is changing the $m$ for $X \\in \\mathbb{R}^{m \\times n}$ and compare the final loss fixing training epoch and learning rate. \n",
    "\n",
    "3. learning rate. How would the learning rate influence the convergence of the optimization process?\n",
    "\n",
    "-----------\n",
    "**Hint**\n",
    "- You can add noise by settting $Y=Xt+\\epsilon$ where $\\epsilon \\sim \\mathcal{N}(\\mu,\\sigma^2)$."
   ]
  },
  {
   "cell_type": "code",
   "execution_count": 40,
   "metadata": {
    "ExecuteTime": {
     "end_time": "2022-09-23T04:20:53.713860Z",
     "start_time": "2022-09-23T04:20:53.700851Z"
    },
    "pycharm": {
     "name": "#%%\n"
    }
   },
   "outputs": [],
   "source": [
    "# YOUR CODE HERE.\n",
    "\n",
    "noise = np.random.rand(m)\n",
    "\n",
    "y_noise = X @ t + noise"
   ]
  },
  {
   "cell_type": "code",
   "execution_count": 44,
   "metadata": {
    "ExecuteTime": {
     "end_time": "2022-09-23T04:21:59.917901Z",
     "start_time": "2022-09-23T04:21:59.469535Z"
    }
   },
   "outputs": [
    {
     "name": "stdout",
     "output_type": "stream",
     "text": [
      "Stop training at No.19 epoch, current loss is 30.82525562612542.\n",
      "GD t:  [0.56914148 0.02041034 0.57795868]\n"
     ]
    },
    {
     "data": {
      "image/png": "[encoded data removed]",
      "text/plain": [
       "<Figure size 432x288 with 1 Axes>"
      ]
     },
     "metadata": {
      "needs_background": "light"
     },
     "output_type": "display_data"
    }
   ],
   "source": [
    "theta_gd, loss_gd = gradient_descent(X, y_noise, theta, threshold=1e-1, step_size=0.003, \n",
    "                                     batch_gd=True, batch_size=80,\n",
    "                                     regularization=True, regularizer_param=0.5)\n",
    "print(\"GD t: \", theta_gd)\n",
    "\n",
    "plt.plot(range(len(loss_gd)), loss_gd)\n",
    "plt.xlabel(\"epoch\")\n",
    "plt.ylabel(\"loss\")\n",
    "plt.grid()"
   ]
  }
 ],
 "metadata": {
  "kernelspec": {
   "display_name": "Python 3 (ipykernel)",
   "language": "python",
   "name": "python3"
  },
  "language_info": {
   "codemirror_mode": {
    "name": "ipython",
    "version": 3
   },
   "file_extension": ".py",
   "mimetype": "text/x-python",
   "name": "python",
   "nbconvert_exporter": "python",
   "pygments_lexer": "ipython3",
   "version": "3.9.12"
  },
  "toc": {
   "base_numbering": 1,
   "nav_menu": {},
   "number_sections": true,
   "sideBar": true,
   "skip_h1_title": false,
   "title_cell": "Table of Contents",
   "title_sidebar": "Contents",
   "toc_cell": false,
   "toc_position": {},
   "toc_section_display": true,
   "toc_window_display": false
  },
  "varInspector": {
   "cols": {
    "lenName": 16,
    "lenType": 16,
    "lenVar": 40
   },
   "kernels_config": {
    "python": {
     "delete_cmd_postfix": "",
     "delete_cmd_prefix": "del ",
     "library": "var_list.py",
     "varRefreshCmd": "print(var_dic_list())"
    },
    "r": {
     "delete_cmd_postfix": ") ",
     "delete_cmd_prefix": "rm(",
     "library": "var_list.r",
     "varRefreshCmd": "cat(var_dic_list()) "
    }
   },
   "types_to_exclude": [
    "module",
    "function",
    "builtin_function_or_method",
    "instance",
    "_Feature"
   ],
   "window_display": false
  }
 },
 "nbformat": 4,
 "nbformat_minor": 4
}
