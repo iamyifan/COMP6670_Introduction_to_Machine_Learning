{
 "cells": [
  {
   "cell_type": "markdown",
   "metadata": {},
   "source": [
    "## COMP3670/6670 Programming Assignment 2 - Clustering, Linear Regression and Gradient Descent\n",
    "---\n",
    "\n",
    "**Enter Your Student ID:**\n",
    "\n",
    "**Your Name:**\n",
    "    \n",
    "**Deadline:** \n",
    "\n",
    "**Submit:** Write your answers in this file, and submit a single Jupyter Notebook file (.ipynb) on Wattle. Rename this file with your student number as 'uXXXXXXX.ipynb'. Note: you don't need to submit the .png or .npy files. \n",
    "\n",
    "**Enter Discussion Partner IDs Below:**\n",
    "You could add more IDs with the same markdown format above.\n",
    "\n",
    "**Programming Section**:\n",
    "- Task 1.1 - 1.3: 30%\n",
    "- Task 1.4: 40%\n",
    "- Task 2: 30%"
   ]
  },
  {
   "cell_type": "code",
   "execution_count": null,
   "metadata": {},
   "outputs": [],
   "source": [
    "import time\n",
    "import sys\n",
    "! pip install numpy\n",
    "import numpy as np\n",
    "! pip install matplotlib\n",
    "import matplotlib.pyplot as plt\n",
    "import math\n",
    "import os\n",
    "from matplotlib.pyplot import imread\n",
    "! pip install patchify\n",
    "from patchify import patchify\n",
    "\n",
    "np.random.seed(1)\n"
   ]
  },
  {
   "cell_type": "markdown",
   "metadata": {},
   "source": [
    "## Task1: Clustering and Bag of Visual Words\n",
    "-----------\n",
    "These programming exercises will focus on K-means clustering. \n",
    "\n",
    "If you're unsure of how k-means works, read this very helpful and freely available online breakdown from Stanford's CS221 course; https://stanford.edu/~cpiech/cs221/handouts/kmeans.html\n",
    "\n",
    "This assignment requires you to loosely interpret how k-means is a specific case of a more general algorithm named Expectation Maximisation. This is explained toward the end of the above article.\n",
    "\n",
    "First, lets loading the dataset."
   ]
  },
  {
   "cell_type": "code",
   "execution_count": null,
   "metadata": {},
   "outputs": [],
   "source": [
    "X = np.load(\"./data_clustering.npy\")\n",
    "plt.scatter(X[:,0], X[:,1])\n",
    "plt.show()"
   ]
  },
  {
   "cell_type": "markdown",
   "metadata": {},
   "source": [
    "K-means is a special, simple case of the Expectation Maximisation (EM) algorithm.\n",
    "\n",
    "This simplified EM (k-means), is divided into two steps.\n",
    "\n",
    "The **E-Step**, where for every sample in your dataset you find which \"centroid\" that datapoint is closest to that sample, and record that information.\n",
    "\n",
    "The **M-Step**, where you move each \"centroid\" to the center of the samples which were found to be closest to it in the **E-Step**.\n",
    "\n",
    "Each *centroid* is simply an estimated mean of a cluster. If you have $1$ centroid, then this centroid will become the mean of all your data.\n",
    "\n",
    "Centroids are initially random values, and the k-means algorithm attempts to modify them so that each one represents the center of a cluster.\n",
    "\n",
    "We have implemented a centroids initialization function."
   ]
  },
  {
   "cell_type": "code",
   "execution_count": null,
   "metadata": {},
   "outputs": [],
   "source": [
    "def initialise_parameters(m, X):\n",
    "    C = X[np.random.choice(X.shape[0], m)]\n",
    "    return C\n",
    "\n",
    "C = initialise_parameters(4, X)\n",
    "print(C)"
   ]
  },
  {
   "cell_type": "markdown",
   "metadata": {},
   "source": [
    "Now let's implement K-Means algorithm.\n",
    "\n",
    "---\n",
    "   **TASK 1.1:** Create a function $E\\_step(C, X) = L$, where $L$ is a matrix of the same dimension of the dataset $X$.\n",
    "   \n",
    "   This function is is the **E-Step** (or \"assignment step\") mentioned earlier.\n",
    "\n",
    "---\n",
    "\n",
    "**HINT:** \n",
    "- https://stanford.edu/~cpiech/cs221/handouts/kmeans.html\n",
    "- https://en.wikipedia.org/wiki/K-means_clustering#Standard_algorithm\n",
    "- Each row of $L$ is a centroid taken from $C$."
   ]
  },
  {
   "cell_type": "code",
   "execution_count": null,
   "metadata": {},
   "outputs": [],
   "source": [
    "def E_step(C, X):\n",
    "    # YOUR CODE HERE\n",
    "    pass\n",
    "    \n",
    "L = E_step(C, X)\n",
    "plt.scatter(L[:, 0], L[:, 1])\n",
    "plt.show()"
   ]
  },
  {
   "cell_type": "markdown",
   "metadata": {},
   "source": [
    "**TASK 1.2:** Create a function $M\\_step(C, X, L) = C$ which returns $C$ modified so that each centroid in $C$ is placed in the middle of the samples assigned to it. This is the **M-Step**.\n",
    "\n",
    "In other words, make each centroid in $C$ the average of all the samples which were found to be closest to it during the **E-step**. This is also called the \"update step\" for K-means.\n",
    "\n",
    "---\n",
    "\n",
    "**HINT:** https://docs.scipy.org/doc/numpy/reference/generated/numpy.array_equal.html"
   ]
  },
  {
   "cell_type": "code",
   "execution_count": null,
   "metadata": {},
   "outputs": [],
   "source": [
    "def M_step(C, X, L):\n",
    "    # YOUR CODE HERE\n",
    "    pass\n",
    "\n",
    "print('Before:')\n",
    "print(C)\n",
    "print('\\nAfter:')\n",
    "new_C = M_step(C, X, L)\n",
    "print(new_C)"
   ]
  },
  {
   "cell_type": "markdown",
   "metadata": {},
   "source": [
    "**TASK 1.3:** Implement $kmeans(X, m, threshold) = C, L$ which takes a dataset $X$ (of any dimension) and a scalar value $m$ and a scalar $threshold$ as input. This function uses the 3 functions you wrote previously to:\n",
    "- generate $m$ centroids.\n",
    "- iterate between the E and M steps until the difference of loss values between two iterations is less than the threshold to classify the $m$ clusters.\n",
    "\n",
    "...and then returns:\n",
    "- $C$, the centers of the $m$ clusters after convergence.\n",
    "- $L$, the labels (centroid vectors) assigned to each sample in the dataset after convergence.\n",
    "---\n",
    "**HINT:** Using initialise_parameters to initial centroid"
   ]
  },
  {
   "cell_type": "code",
   "execution_count": null,
   "metadata": {},
   "outputs": [],
   "source": [
    "def kmeans(X, m, threshold):\n",
    "    # YOUR CODE HERE\n",
    "    pass\n",
    "\n",
    "#CODE TO DISPLAY YOUR RESULTS. DO NOT MODIFY.\n",
    "C_final, L_final = kmeans(X, 4, 1e-6)\n",
    "print('Initial Parameters:')\n",
    "print(C)\n",
    "print('\\nFinal Parameters:')\n",
    "print(C_final)\n",
    "\n",
    "def allocator(X, L, c):\n",
    "    cluster = []\n",
    "    for i in range(L.shape[0]):\n",
    "        if np.array_equal(L[i, :], c):\n",
    "            cluster.append(X[i, :])\n",
    "    return np.asarray(cluster)\n",
    "\n",
    "colours = ['r', 'g', 'b', 'y']\n",
    "for i in range(4):\n",
    "    cluster = allocator(X, L_final, C_final[i, :])\n",
    "    plt.scatter(cluster[:,0], cluster[:,1], c=colours[i])\n",
    "plt.show()"
   ]
  },
  {
   "cell_type": "markdown",
   "metadata": {},
   "source": [
    "Your answer should like this, maybe with different colors:\n",
    "![image](./cluster.png)"
   ]
  },
  {
   "cell_type": "markdown",
   "metadata": {},
   "source": [
    "**TASK 1.4:** Implement Bag of Visual Words (BOVW) to perform pedestrian retrieval. See more information at:\n",
    "\n",
    "https://en.wikipedia.org/wiki/Bag-of-words_model\n",
    "\n",
    "https://en.wikipedia.org/wiki/Bag-of-words_model_in_computer_vision\n",
    "\n",
    "First, let's understand the settings of datasets.\n",
    "\n",
    "---\n",
    "We provide you with 3 pedestrian image folders, 'train', 'gallery', and 'val_query'. There are 99 images in 'train' which are used to create a vocabulary through clustering. 'Gallery' contains 90 images which belong to 15 different pedestrians. If two images' file name have same first four digits, then these two images belong to same pedestrian. When we randomly select a query image from 'val_query', we aim to find the images from the 'gallery' that contain the same person as the query. Let's load the images in 'train' and visualise an example."
   ]
  },
  {
   "cell_type": "code",
   "execution_count": null,
   "metadata": {},
   "outputs": [],
   "source": [
    "train_images = []\n",
    "for file in os.listdir(\"./train\"):\n",
    "    if file.endswith(\".jpg\"):\n",
    "        im = imread(\"./train/\" + file)\n",
    "        train_images.append(im)\n",
    "        assert im.shape == (128, 64, 3)\n",
    "plt.imshow(train_images[0])\n",
    "plt.show()"
   ]
  },
  {
   "cell_type": "markdown",
   "metadata": {},
   "source": [
    "To generate the vocabulary, the first step is computing local image features. For simplicity, patches of size 8×8 are densely sampled, and we use these patches for local feature extraction. The sampling step is 8, so there is no overlapping between patches. "
   ]
  },
  {
   "cell_type": "code",
   "execution_count": null,
   "metadata": {},
   "outputs": [],
   "source": [
    "def patchify_images(image):\n",
    "    return patchify(image, (8, 8, 3), step=8).reshape((-1, 8, 8, 3))\n",
    "\n",
    "patches = patchify_images(train_images[0])\n",
    "print(f'Before splitting, the image size is {train_images[0].shape}')\n",
    "print(f'After splitting, the patches are {patches.shape}')\n",
    "print('A patch is like:')\n",
    "plt.imshow(patches[50])\n",
    "plt.show()"
   ]
  },
  {
   "cell_type": "markdown",
   "metadata": {},
   "source": [
    "Then you need to implement your feature extractor to compute the feature of an image patch. Complete the function\n",
    "\n",
    "$$compute\\_patch\\_feature(patch) = patch\\_feature$$\n",
    "\n",
    "**Requirements:** \n",
    "- You are not allowed to import any other packages except Numpy and Scipy. (Your are allowed to import packages in Numpy or Scipy, such as scipy.signal). \n",
    "- You can find inspiration from internet. However, you have to code by yourself. Hint: color feature might be a useful option.\n",
    "- Your implementation for feature extraction of a patch should be of reasonable speed, e.g., within a second. You will have 0 if your algorithm takes too much time to run."
   ]
  },
  {
   "cell_type": "code",
   "execution_count": 5,
   "metadata": {},
   "outputs": [],
   "source": [
    "def compute_patch_feature(patch):\n",
    "    #YOUR CODE HERE\n",
    "    pass\n",
    "\n",
    "\n",
    "\n",
    "start = time.time()\n",
    "print(f'The shape of the feature of a patch is :{compute_patch_feature(patches[50]).shape} in my implementation.')\n",
    "end = time.time()\n",
    "print(f'It takes {end-start} seconds to compute the feature for one image patch.')"
   ]
  },
  {
   "cell_type": "markdown",
   "metadata": {},
   "source": [
    "Now, you can create the vocabulary from patch features in the 'train' folder. Complete the function\n",
    "\n",
    "$$create\\_vocabulary(train\\_images) = vocabulary$$\n",
    "\n",
    "**HINT:** \n",
    "- Remember to call the functions you defined in Task 1.1, 1.2 and 1.3.\n",
    "- You are free to decide the size of vocabulary as long as it can be generated within 2 minutes.\n",
    "- It is NOT allowed to use 'gallary' or 'val_query' images for vocabulary training. You will have 0 for Task 1.4 if you use them.\n",
    "- It is NOT allowed to use external images (e.g., those from the web), either. "
   ]
  },
  {
   "cell_type": "code",
   "execution_count": null,
   "metadata": {},
   "outputs": [],
   "source": [
    "def create_vocabulary(train_images):\n",
    "    #YOUR CODE HERE\n",
    "    pass\n",
    "\n",
    "\n",
    "start = time.time()\n",
    "vocabulary = create_vocabulary(train_images)\n",
    "end = time.time()\n",
    "print(f'The shape of my vocabulary is {vocabulary.shape}.')\n",
    "print(f'It takes {end-start} seconds to generate the vocabulary.' )"
   ]
  },
  {
   "cell_type": "markdown",
   "metadata": {},
   "source": [
    "You have built the vocabulary successfully. You must know how to compute the feature representation of an image. Now, let's do a simple pedestrian retrieval task where we are going to pick a query image from 'val_query' and try to search for images in 'gallery' which contain the same person. "
   ]
  },
  {
   "cell_type": "code",
   "execution_count": null,
   "metadata": {},
   "outputs": [],
   "source": [
    "gallery_images = []\n",
    "gallery_filenames = []\n",
    "for file in os.listdir(\"./gallery\"):\n",
    "    if file.endswith(\".jpg\"):\n",
    "        im = imread(\"./gallery/\" + file)\n",
    "        gallery_images.append(im)\n",
    "        gallery_filenames.append(file)\n",
    "\n",
    "query_image = imread(\"./val_query/0001_c5_0022.jpg\")\n",
    "# show a query image\n",
    "plt.imshow(query_image)\n",
    "plt.show()"
   ]
  },
  {
   "cell_type": "markdown",
   "metadata": {},
   "source": [
    "Complete the function\n",
    "   \n",
    "$$image\\_similarity\\_ranking(gallery\\_images, query\\_image, vocabulary, gallery\\_filenames) = list\\_of\\_name\\_of\\_the\\_gallery\\_images$$\n",
    "\n",
    "gallery_images is the collection of all 90 images with dimension $90 \\times 128 \\times 64 \\times 3$.\n",
    "\n",
    "query_image is one image with dimension $128 \\times 64 \\times 3$.\n",
    "\n",
    "The return value should be a list of image file names. Each name indicates a gallery image, ranked according to their similarities with the query. That is, the first file name corresponds to the image with the highest similarity to the query. The second file name in the list is image with second highest similarity to the query, etc. A file name should be '0001_c5_0022.jpg'. The length of the result should be 90, same as the number of gallery images. **For Task 1.4, you will be marked based on the retrieval accuracy**.  \n",
    "\n",
    "\n",
    "**Requirements:** \n",
    "- You can't use the filename to do the task trivially. In other words, you must use a machine learning solution.\n",
    "- You are free to improve the distance metric (an $\\ell_2$ distance is a basic option).\n",
    "- You need to extract the feature of an image by the BOVW method. Other options (e.g., deep learning) are not allowed.\n",
    "- Your implementation (e.g., BOVW feature extraction for an image, nearest neighbor search) should be of reasonable speed, e.g., within 20 seconds. You will receive 0 if your algorithm takes too much time to run (e.g., more than 2 minutes).\n",
    "\n",
    "Marking criteria: Our evaluation process will calculate a matching score, a weighted sum of your top-1, 2, 3, 4, 5 accuracy using some test queries (not provided to students). These test queries will be used to probe your gallery data (90 images). Top-k accuracy measures the percentage of queries for which you could find the true match within the top-k position of the rank list. Your mark will be given based on your accuracy. For example, if your accuracy is within top 10% in the class, you will receive 40 marks; If your accuracy is 50% in the class, you will get 20 marks. If your program contains errors/bugs, you will receive 0. "
   ]
  },
  {
   "cell_type": "code",
   "execution_count": null,
   "metadata": {},
   "outputs": [],
   "source": [
    "def image_similarity_ranking(gallery_images, query_image, vocabulary, gallery_filenames):\n",
    "    #YOUR CODE HERE\n",
    "    pass\n",
    "\n",
    "\n",
    "# visualise your query image and its best match in gallery. Ideally, they should be the same person.\n",
    "start = time.time()\n",
    "name_list = image_similarity_ranking(gallery_images, imread(\"./val_query/0001_c5_0022.jpg\"), vocabulary,gallery_filenames)\n",
    "end = time.time()\n",
    "print(f'It takes {end-start} seconds to get the matching results of a query')\n",
    "print('Your query image is:')\n",
    "plt.imshow(imread(\"./val_query/0001_c5_0022.jpg\"))\n",
    "plt.show()\n",
    "print('The best matching is:')\n",
    "plt.imshow(gallery_images[gallery_filenames.index(name_list[0])])\n",
    "plt.show()\n",
    "# We have 3 query images, you can try other two queries to see whether your algorithm performs well."
   ]
  },
  {
   "cell_type": "markdown",
   "metadata": {},
   "source": [
    "Please use the following code to calculate the matching score of 'val_query' dataset. Make sure the score is reasonble to you. We will be evaluating your implementation using some test queries that are not provided to you."
   ]
  },
  {
   "cell_type": "code",
   "execution_count": null,
   "metadata": {},
   "outputs": [],
   "source": [
    "def match_score(name, name_list):\n",
    "    def reid(idx):\n",
    "        return name_list[idx][:4]\n",
    "\n",
    "    base = 0.0\n",
    "    code = name[:4]\n",
    "    if reid(0) == code or reid(1) == code or reid(2) == code:\n",
    "        base += 0.4\n",
    "        if (reid(0) == code):\n",
    "            base += 0.3\n",
    "        elif (reid(1) == code):\n",
    "            base += 0.2\n",
    "        elif (reid(2) == code):\n",
    "            base += 0.1\n",
    "        if (reid(0) == code and reid(1) == code) or (reid(0) == code and reid(2) == code) or (\n",
    "                reid(1) == code and reid(2) == code):\n",
    "            base += 0.2\n",
    "            if (reid(0) == code and reid(1) == code and reid(2) == code):\n",
    "                base += 0.1\n",
    "    else:\n",
    "        if (reid(3) == code):\n",
    "            base += 0.4\n",
    "        elif (reid(4) == code):\n",
    "            base += 0.2\n",
    "    return base\n",
    "\n",
    "def total_score():\n",
    "    score = 0\n",
    "    for file in os.listdir(\"./val_query\"):\n",
    "        name_list = image_similarity_ranking(gallery_images, imread(\"./val_query/\" + file), vocabulary, gallery_filenames)\n",
    "        score += match_score(file, name_list)\n",
    "    return score\n",
    "\n",
    "print(total_score())"
   ]
  },
  {
   "cell_type": "markdown",
   "metadata": {},
   "source": [
    "## Task 2: Linear Regression and Gradient Descent\n",
    "---\n",
    "\n",
    "For exercise 2, we're going to implement multiple target **batch** linear regression with mean squared loss,\n",
    "\n",
    "$$\\mathcal{L} = \\frac{1}{2 m} \\sum_{i = 0}^{m} \\mid \\mid x_i\\theta - y_i \\mid \\mid^2$$.\n",
    "\n",
    "For the following questions:\n",
    "- $x \\in \\mathbb{R}^{m}$ is the vector directly representing input features from the provided dataset. Every element of it is a single training example.\n",
    "- $X \\in \\mathbb{R}^{m \\times n}$ is the constructed feature matrix (e.g. polynomial features) used for learning. Each row of $X$ is a single training example.\n",
    "- $\\theta$ is our parameters. \n",
    "- $y \\in \\mathbb{R}^{m}$ is a matrix of the target values we're trying to estimate for each row of $X$. Each row $i$ of $X$ corresponds to row $i$ of $Y$.\n",
    "- $m$ is the number of training examples.\n",
    "- $n$ is the dimensionality of one training example.\n",
    "\n",
    "Typically when people think of linear regression, they think of a mapping from $\\mathbb{R}^n \\rightarrow \\mathbb{R}$, where they're trying to predict a single scalar value.\n",
    "\n",
    "---\n",
    "First, we load the data."
   ]
  },
  {
   "cell_type": "code",
   "execution_count": null,
   "metadata": {},
   "outputs": [],
   "source": [
    "x_train, _, y_train, _ = np.load(\"./data_regression.npy\")\n",
    "plt.plot(x_train,y_train,'o')\n",
    "plt.xlabel('x')\n",
    "plt.ylabel('y')\n",
    "plt.title(\"Training data\")\n",
    "plt.ylim([-1,3])\n",
    "plt.show()"
   ]
  },
  {
   "cell_type": "markdown",
   "metadata": {},
   "source": [
    "It is obvious that it is not a good idea to perform linear regression directly on the input feature `x`. We need to add polynomial features. Lets construct an appropriate feature vector.\n",
    "\n",
    "---\n",
    "**Task 2.1**:  Complete the `get_polynomial_features` function with the following specifications.\n",
    "* Input1: an array `x` of shape $(m,1)$.\n",
    "* Input2: `degree` of the polynomial (integer greater than or equal to one).\n",
    "* Output: matrix of shape $(m,degree+1)$ consisting of horizontally concatenated polynomial terms.\n",
    "* Output: the first column of output matrix should be all ones.\n",
    "---"
   ]
  },
  {
   "cell_type": "code",
   "execution_count": null,
   "metadata": {},
   "outputs": [],
   "source": [
    "def get_polynomial_features(x,degree=5):\n",
    "    # YOUR CODE HERE\n",
    "    pass\n",
    "\n",
    "\n",
    "# get polynomial features\n",
    "X_train = get_polynomial_features(x_train,degree=2)"
   ]
  },
  {
   "cell_type": "markdown",
   "metadata": {},
   "source": [
    "Let us implement gradient descent to find the optimal $\\theta$.\n",
    "\n",
    "\n",
    "---\n",
    "**TASK 2.2:** Write a function $initialise\\_parameters(n) = \\theta$, where $\\theta$ is the parameters we will use for linear regression $X\\theta = Y$ for $X \\in \\mathbb{R}^{m \\times n}, Y \\in \\mathbb{R}^{m}$.\n",
    "\n",
    "The values of $\\theta$ should be randomly generated. You will be judged on whether the matrix $\\theta$ is correctly constructed for this problem.\n",
    "\n",
    "\n",
    "---\n",
    "\n",
    "**HINT:** $\\theta$ should be an array of length $n$."
   ]
  },
  {
   "cell_type": "code",
   "execution_count": null,
   "metadata": {
    "scrolled": true
   },
   "outputs": [],
   "source": [
    "def initialise_parameters(n):\n",
    "    # YOUR CODE HERE\n",
    "    pass\n",
    "    \n",
    "    \n",
    "# initialize theta\n",
    "theta = initialise_parameters(X_train.shape[1])\n",
    "print(theta)"
   ]
  },
  {
   "cell_type": "markdown",
   "metadata": {},
   "source": [
    "---\n",
    "**TASK 2.3:** Implement a function $ms\\_error(X, \\theta, y) = err$, which gives the **mean** squared error over all $m$ training examples.\n",
    "\n",
    "---"
   ]
  },
  {
   "cell_type": "code",
   "execution_count": null,
   "metadata": {},
   "outputs": [],
   "source": [
    "def ms_error(X, theta, y):\n",
    "    # YOUR CODE HERE\n",
    "    pass\n",
    "\n",
    "print(ms_error(X_train, theta, y_train))"
   ]
  },
  {
   "cell_type": "markdown",
   "metadata": {},
   "source": [
    "---\n",
    "\n",
    "**TASK 2.4:** Implement $grad(X, \\theta, Y) = g$, a function that returns the average gradient ($\\partial \\mathcal{L}/\\partial {\\theta}$) across all the training examples $x_i \\in \\mathbb{R}^{1 \\times n}$.\n",
    "\n",
    "---\n",
    "\n",
    "**HINT:** \n",
    "- The gradient should be an array with same length as $\\theta$.\n",
    "- https://www.sharpsightlabs.com/blog/numpy-sum/\n",
    "- https://docs.scipy.org/doc/numpy/reference/generated/numpy.multiply.html\n",
    "- https://docs.scipy.org/doc/numpy/reference/generated/numpy.tile.html"
   ]
  },
  {
   "cell_type": "code",
   "execution_count": null,
   "metadata": {},
   "outputs": [],
   "source": [
    "def grad(X, theta, Y):\n",
    "    # YOUR CODE HERE\n",
    "    pass\n",
    "\n",
    "print(grad(X_train, theta, y_train))"
   ]
  },
  {
   "cell_type": "markdown",
   "metadata": {},
   "source": [
    "---\n",
    "\n",
    "**TASK 2.5:** Implement $batch\\_descent(X, Y, iterations, learning\\_rate) = \\theta, L$, a function which implements batch gradient descent returning $\\theta$ (parameters which estimate $Y$ from $X$), and $L$.\n",
    "\n",
    "$iterations$ is the number of gradient descent iterations to be performed.\n",
    "\n",
    "$learning\\_rate$ is, of course, the learning rate.\n",
    "\n",
    "$L$ is a matrix recording the mean squared error at every iteration of gradient descent. It will be an array of length $iterations$.\n",
    "\n",
    "You should use the functions you completed earlier to complete this. \n",
    "\n",
    "---\n",
    "\n",
    "**HINT:** \n",
    "- Remember, the point of gradient descent is to minimise the loss function. \n",
    "- It does this by taking \"steps\". The gradient always points in the steepest direction uphill, so by stepping in the opposite direction of the gradient we move toward the value of $\\theta$ that minimises the loss function."
   ]
  },
  {
   "cell_type": "code",
   "execution_count": null,
   "metadata": {},
   "outputs": [],
   "source": [
    "def batch_descent(X, Y, iterations, learning_rate):\n",
    "    # YOUR CODE HERE\n",
    "    pass\n",
    "\n",
    "    \n",
    "#REPORTING CODE. YOU MAY NEED TO MODIFY THE LEARNING RATE OR NUMBER OF ITERATIONS\n",
    "new_theta, L = batch_descent(X_train, y_train, 5000, 0.5)\n",
    "plt.plot(L)\n",
    "plt.title('Mean Squared Error vs Iterations')\n",
    "plt.show()\n",
    "print('New Theta: \\n', new_theta)\n",
    "print('\\nFinal Mean Squared Error: \\n', ms_error(X_train, new_theta, y_train))\n",
    "\n",
    "def get_prediction(X,theta):\n",
    "    pred = X@theta\n",
    "    return pred\n",
    "\n",
    "x_fit = np.linspace(-0.7, 0.8, 1000)\n",
    "X_fit = get_polynomial_features(x_fit,degree=2)\n",
    "pred_y_train = get_prediction(X_fit,new_theta)\n",
    "\n",
    "# plot results\n",
    "plt.plot(x_train,y_train,'o',label='data point')\n",
    "plt.plot(x_fit,pred_y_train,label='fitting result')\n",
    "plt.legend()\n",
    "plt.xlabel('x')\n",
    "plt.ylabel('y')\n",
    "plt.title('show fitting result')\n",
    "plt.ylim([-1,3])\n",
    "plt.show()"
   ]
  }
 ],
 "metadata": {
  "kernelspec": {
   "display_name": "a2_new",
   "language": "python",
   "name": "a2_new"
  },
  "language_info": {
   "codemirror_mode": {
    "name": "ipython",
    "version": 3
   },
   "file_extension": ".py",
   "mimetype": "text/x-python",
   "name": "python",
   "nbconvert_exporter": "python",
   "pygments_lexer": "ipython3",
   "version": "3.7.13"
  }
 },
 "nbformat": 4,
 "nbformat_minor": 2
}
