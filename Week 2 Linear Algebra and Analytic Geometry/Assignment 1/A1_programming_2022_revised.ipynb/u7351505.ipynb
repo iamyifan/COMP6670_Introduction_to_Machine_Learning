{
 "cells": [
  {
   "cell_type": "markdown",
   "metadata": {},
   "source": [
    "## COMP3670/6670 Programming Assignment 1 - Linear Algebra and Analytic Geometry\n",
    "---\n",
    "\n",
    "**Enter Your Student ID:** u7351505\n",
    "\n",
    "**Your Name:** Yifan Luo\n",
    "    \n",
    "**Deadline:** 8.28, 11:59 PM\n",
    "\n",
    "**Submit:** Write your answers in this file, and submit a single Jupyter Notebook file (.ipynb) on Wattle. Rename this file with your student number as 'uXXXXXXX.ipynb'.\n",
    "\n",
    "**Enter Discussion Partner IDs Below:**\n",
    "You could add more IDs with the same markdown format above.\n",
    "\n",
    "\n",
    "\n",
    "---\n",
    "**Marking distribution for the assignment**\n",
    "\n",
    "- Task1 = 10%\n",
    "- Task2 = 50%\n",
    "- Task3 = 40%\n",
    "\n",
    "**You will get full marks if your program passes all the tests; you will get partial marks if it passes some cases. There is no process marks (we do not look into your codes).**"
   ]
  },
  {
   "cell_type": "markdown",
   "metadata": {},
   "source": [
    "## Task 0: Introduction\n",
    "---\n",
    "\n",
    "**NOTE:** *This part of the first assignment is by necessity somewhat tedious as its primary purpose is to introduce syntax, how to access and understand the Numpy documentation and some very basic concepts. If you are already familiar with Numpy, you can just read the **TASK** headings and complete the questions without worrying about all the additional information. This is designed for people who have never seen Numpy before, so it's a very easy 1st year style introduction to just introduce syntax.*\n",
    "\n",
    "*As this is a third year subject, it is assumed you already know to to program well (but may be unfamiliar with Python and Numpy).*\n",
    "\n",
    "---\n",
    "\n",
    "Arguably the most fundamental tool needed to engage with machine learning in Python is Numpy *(np)*. To include Numpy in any project, simply type the following line at the top of your python file:"
   ]
  },
  {
   "cell_type": "code",
   "execution_count": 1,
   "metadata": {
    "ExecuteTime": {
     "end_time": "2022-08-21T13:49:57.759616Z",
     "start_time": "2022-08-21T13:49:53.188981Z"
    }
   },
   "outputs": [
    {
     "name": "stdout",
     "output_type": "stream",
     "text": [
      "Requirement already satisfied: sympy in d:\\anaconda3\\lib\\site-packages (1.10.1)\n",
      "Requirement already satisfied: mpmath>=0.19 in d:\\anaconda3\\lib\\site-packages (from sympy) (1.2.1)\n"
     ]
    }
   ],
   "source": [
    "# numpy\n",
    "import numpy as np\n",
    "\n",
    "!pip install sympy\n",
    "import sympy as sp\n",
    "\n",
    "# matplotlib\n",
    "import matplotlib.pyplot as plt\n",
    "%matplotlib inline"
   ]
  },
  {
   "cell_type": "markdown",
   "metadata": {},
   "source": [
    "A Jupyter Notebook is divided into cells, each of which works like a Python module or Latex file. When a cell is run, any cells that follow it will have access to its results. Running the above cell will give all following cells access to the Numpy library.\n",
    "\n",
    "-----------\n",
    "\n",
    "   **TASK 0.1:** To run the above cell, select it by clicking on it, hold **shift** and press **return**. If you have succeeded, then the cell will print \"Done\" just above.\n",
    "\n",
    "\n",
    "-----------\n",
    "\n",
    "Numpy is a library of common mathematical data structures and algorithms used in machine learning. For example:\n",
    "\n",
    "- It allows you to declare vectors and matrices, with all the associated mathematical operations like matrix vector products, matrix addition / subtraction.\n",
    "- It provides convenient, efficient implementations of algorithms to solve matrix equations, find the inverse of a matrix or perform Eigen decomposition. The implementation of these algorithms is compiled from C code, making Numpy much faster than programming these algorithms yourself in Python.\n",
    "\n",
    "You'll need to know Numpy inside and out. We'll start by getting you familiar with the easy to access online documentation and performing a few basic operations.\n",
    "\n",
    "Below I have declared the matrices: \n",
    "\n",
    "$$A = \n",
    "\\begin{bmatrix}\n",
    "2&3\\\\\n",
    "0&1\\\\\n",
    "\\end{bmatrix}\n",
    "\\\\\n",
    "x = \n",
    "\\begin{bmatrix}\n",
    "1\\\\\n",
    "3\\\\\n",
    "\\end{bmatrix}\n",
    "$$. \n",
    "\n",
    "---\n",
    "**TASK 0.2:** Run the cell below and observe what it prints.\n",
    "\n",
    "\n",
    "---\n",
    "(If it throws an error, you have the wrong version of python installed. This entire course will use Python 3, not Python 2)\n",
    "\n"
   ]
  },
  {
   "cell_type": "code",
   "execution_count": 2,
   "metadata": {
    "ExecuteTime": {
     "end_time": "2022-08-21T13:49:57.775146Z",
     "start_time": "2022-08-21T13:49:57.761031Z"
    }
   },
   "outputs": [
    {
     "name": "stdout",
     "output_type": "stream",
     "text": [
      "\n",
      "Matrix Multiplication\n",
      "[[11]\n",
      " [ 3]]\n"
     ]
    }
   ],
   "source": [
    "A = np.array([[2, 3], [0, 1]])\n",
    "x = np.array([[1], [3]])\n",
    "\n",
    "#Matrix Multiplication Example\n",
    "b = A @ x\n",
    "print('\\nMatrix Multiplication')\n",
    "print(b)"
   ]
  },
  {
   "cell_type": "markdown",
   "metadata": {},
   "source": [
    "The above code illustrates how to perform matrix multiplication. Memorise it. Below are some other basic operations you'll likely need over the coming semester:"
   ]
  },
  {
   "cell_type": "code",
   "execution_count": 3,
   "metadata": {
    "ExecuteTime": {
     "end_time": "2022-08-21T13:49:57.790311Z",
     "start_time": "2022-08-21T13:49:57.777069Z"
    }
   },
   "outputs": [
    {
     "name": "stdout",
     "output_type": "stream",
     "text": [
      "\n",
      "Matrix Addition\n",
      "[[3 4]\n",
      " [3 4]]\n",
      "\n",
      "Elementwise Matrix Multiplication\n",
      "[[2 3]\n",
      " [0 3]]\n",
      "\n",
      "Single Element Extraction\n",
      "2\n",
      "\n",
      "Column Extraction\n",
      "[2 0]\n",
      "\n",
      "Row Extraction\n",
      "[2 3]\n",
      "\n",
      "Transpose\n",
      "[[2 0]\n",
      " [3 1]]\n"
     ]
    }
   ],
   "source": [
    "#Matrix Addition Example\n",
    "b = A + x\n",
    "print('\\nMatrix Addition')\n",
    "print(b)\n",
    "\n",
    "#Elementwise Multiplication Example\n",
    "b = A * x\n",
    "print('\\nElementwise Matrix Multiplication')\n",
    "print(b)\n",
    "\n",
    "#Extract a single element of a matrix:\n",
    "print('\\nSingle Element Extraction')\n",
    "b = A[0, 0]\n",
    "print(b)\n",
    "\n",
    "#Extract an entire column of a matrix:\n",
    "print('\\nColumn Extraction')\n",
    "b = A[:, 0]\n",
    "print(b)\n",
    "\n",
    "#Extract an entire row of a matrix:\n",
    "print('\\nRow Extraction')\n",
    "b = A[0, :]\n",
    "print(b)\n",
    "\n",
    "#Transpose of a matrix:\n",
    "print('\\nTranspose')\n",
    "A_Transpose = A.T\n",
    "print(A_Transpose)"
   ]
  },
  {
   "cell_type": "markdown",
   "metadata": {},
   "source": [
    "## Task1: Solving a system of linear equations\n",
    "---\n",
    "\n",
    "A vital part of linear algebra is to know how to solve a system of linear equations. For e.g. \n",
    "\n",
    "$$a_{11}x_1+a_{12}x_2 \\dots a_{1d}x_d=b_1$$\n",
    "$$a_{21}x_1+a_{22}x_2 \\dots a_{2d}x_d=b_2$$\n",
    "$$\\vdots$$\n",
    "$$a_{n1}x_1+a_{n2}x_2 \\dots a_{nd}x_d=b_n$$\n",
    "\n",
    "The above system of linear equations can also be written down in a compact matrix form as follows:\n",
    "\n",
    "$$AX = B$$\n",
    "\n",
    "where,\n",
    "$$A = \\begin{bmatrix}\n",
    "a_{11} & \\dots & a_{1d}\\\\\n",
    "\\vdots & \\ddots & \\vdots \\\\\n",
    "a_{n1} & \\dots & a_{nd}\n",
    "\\end{bmatrix}, \\quad\n",
    "B = \\begin{bmatrix}\n",
    "b_1 \\\\ \\vdots \\\\ b_n\n",
    "\\end{bmatrix}, \\quad\n",
    "X = \\begin{bmatrix}\n",
    "x_1 \\\\ \\vdots \\\\ x_d\n",
    "\\end{bmatrix}.\n",
    "$$"
   ]
  },
  {
   "cell_type": "markdown",
   "metadata": {},
   "source": [
    "---\n",
    "**Task 1.1**: Use numpy's solve function to compute X\n",
    "\n",
    "---\n",
    "**HINT**: https://docs.scipy.org/doc/numpy/reference/generated/numpy.linalg.solve.html"
   ]
  },
  {
   "cell_type": "code",
   "execution_count": 4,
   "metadata": {
    "ExecuteTime": {
     "end_time": "2022-08-21T13:49:57.806069Z",
     "start_time": "2022-08-21T13:49:57.793069Z"
    }
   },
   "outputs": [
    {
     "name": "stdout",
     "output_type": "stream",
     "text": [
      "[[-0.5]\n",
      " [ 0.5]\n",
      " [ 1. ]]\n"
     ]
    }
   ],
   "source": [
    "# define A,B\n",
    "A = np.array([[2, 0, 3], [1, -1, 2], [1, -3, 4]])\n",
    "B = np.array([[2], [1], [2]])\n",
    "\n",
    "def solve_with_numpy(A,B):\n",
    "    ## YOUR CODE HERE\n",
    "    return np.linalg.solve(A, B)\n",
    "\n",
    "# show solution\n",
    "X = solve_with_numpy(A,B)\n",
    "print (X)"
   ]
  },
  {
   "cell_type": "markdown",
   "metadata": {},
   "source": [
    "A more hands on way for solving for X, involves computing first computing the inverse of the matrix $A$\n",
    "\n",
    "---\n",
    "**Task 1.2**: Use numpy's inbuilt method for computing the inverse of the matrix $A$\n",
    "\n",
    "---\n",
    "\n",
    "**HINT**: https://docs.scipy.org/doc/numpy/reference/generated/numpy.linalg.inv.html"
   ]
  },
  {
   "cell_type": "code",
   "execution_count": 5,
   "metadata": {
    "ExecuteTime": {
     "end_time": "2022-08-21T13:49:57.822070Z",
     "start_time": "2022-08-21T13:49:57.807069Z"
    }
   },
   "outputs": [
    {
     "name": "stdout",
     "output_type": "stream",
     "text": [
      "[[-1. -2.]\n",
      " [ 1.  3.]]\n"
     ]
    }
   ],
   "source": [
    "A = np.array([[-3, -2], [1, 1]])\n",
    "\n",
    "A_inv = np.linalg.inv(A)  # YOUR CODE HERE\n",
    "print(A_inv)"
   ]
  },
  {
   "cell_type": "markdown",
   "metadata": {},
   "source": [
    "---\n",
    "**Task 1.3**: Use the inverse of matrix $A$, to solve for $X$\n",
    "\n",
    "---"
   ]
  },
  {
   "cell_type": "code",
   "execution_count": 6,
   "metadata": {
    "ExecuteTime": {
     "end_time": "2022-08-21T13:49:57.838126Z",
     "start_time": "2022-08-21T13:49:57.824069Z"
    }
   },
   "outputs": [
    {
     "name": "stdout",
     "output_type": "stream",
     "text": [
      "[[-16.]\n",
      " [ 22.]]\n"
     ]
    }
   ],
   "source": [
    "A = np.array([[-3, -2], [1, 1]])\n",
    "B = np.array([[4], [6]])\n",
    "\n",
    "X = np.linalg.inv(A) @ B  # YOUR CODE HERE\n",
    "\n",
    "print(X)"
   ]
  },
  {
   "cell_type": "markdown",
   "metadata": {},
   "source": [
    "But what if $A$ is not a square matrix?\n",
    "\n",
    "---\n",
    "**Task 1.4**: Compute the Moore-Penrose pseudo inverse for matrix $A$ and use it for computing $X$. Note that, you must not directly use `np.linalg.pinv` for computing the pseudo-inverse.\n",
    "\n",
    "---\n",
    "\n",
    "**HINT**: https://en.wikipedia.org/wiki/Moore–Penrose_inverse"
   ]
  },
  {
   "cell_type": "code",
   "execution_count": 7,
   "metadata": {
    "ExecuteTime": {
     "end_time": "2022-08-21T13:49:57.853068Z",
     "start_time": "2022-08-21T13:49:57.839071Z"
    }
   },
   "outputs": [
    {
     "name": "stdout",
     "output_type": "stream",
     "text": [
      "[[1.]\n",
      " [4.]]\n"
     ]
    }
   ],
   "source": [
    "A = np.array([[1, 3], [2, 7], [5, 1]])\n",
    "B = np.array([[13], [30], [9]])\n",
    "\n",
    "A_pseudo_inverse = np.linalg.inv(A.T @ A) @ A.T  # YOUR CODE HERE\n",
    "X = A_pseudo_inverse @ B  # YOUR CODE HERE\n",
    "\n",
    "print(X)"
   ]
  },
  {
   "cell_type": "markdown",
   "metadata": {},
   "source": [
    "## Task 2: Solving a system of linear equations with Gaussian elimination"
   ]
  },
  {
   "cell_type": "markdown",
   "metadata": {},
   "source": [
    "In the last task, we used numpy's inbulit functions to solve a system of linear equations. Lets do it without using these functions!\n",
    "\n",
    "---\n",
    "**Task 2.1**:  Complete the following gaussian elimnation function to compute the **reduced row-echelon form** of matrix $A$. You must implement the gaussian elimination algorithm yourself, not merely call someone else's library function. You **MUST NOT** copy codes from any source. Your function needs to work under **different shapes** of matrix. Negative zero is a result of the floating-point number standard. If you have some -0s instead of 0s, that should be fine.\n",
    "\n",
    "---"
   ]
  },
  {
   "cell_type": "code",
   "execution_count": 8,
   "metadata": {
    "ExecuteTime": {
     "end_time": "2022-08-21T13:49:57.946127Z",
     "start_time": "2022-08-21T13:49:57.855070Z"
    },
    "scrolled": false
   },
   "outputs": [],
   "source": [
    "from copy import deepcopy\n",
    "\n",
    "def gaussian_elim(X):\n",
    "    m, n = X.shape\n",
    "    res = np.zeros((m, n))\n",
    "    # YOUR CODE HERE\n",
    "    res = deepcopy(X)\n",
    "    print(\"---- Reducing to REF  ----\")\n",
    "    res = res.astype(float)  # keep floats instead of ints\n",
    "    for i in range(min(m, n)):\n",
    "        # check whether the row starts with zero\n",
    "        swap_row = m - 1  # swap from the last bottom row\n",
    "        # if so, do swapping untill the row starts with a non-zero\n",
    "        # or we found the column is a zero vector\n",
    "        while swap_row > i and res[i, i] == 0:\n",
    "            print(\"swapping: r{} <-> r{}\".format(i, swap_row))\n",
    "            res[[swap_row, i]] = res[[i, swap_row]]\n",
    "            swap_row -= 1\n",
    "            print(res)\n",
    "        if res[i, i] == 0:  # if we found the column is a zero vector\n",
    "            continue  # jump to the next column\n",
    "        # otherwise, the row now starts with a nonzero\n",
    "        # whereas the bottom rows are expected to start with zeros\n",
    "\n",
    "        # deliminate zeros in the rest of rows corresponding to the column\n",
    "        for row in range(i + 1, m):\n",
    "            print(\"deliminating: r{2} -> {0} * r{1} + r{2}\".format(-(res[row, i] / res[i, i]), i, row))\n",
    "            res[row, :] += -(res[row, i] / res[i, i]) * res[i, :]\n",
    "            print(res)\n",
    "    print(\"---- REF done ----\\n\")\n",
    "\n",
    "    print(\"---- Reducing to RREF ----\")\n",
    "    # multiplication to make sure the leading variables are ones\n",
    "    row, col = 0, 0\n",
    "    while row < m and col < n:\n",
    "        while col < n and res[row, col] == 0:  # if the diagonal variable in the row is zero\n",
    "            col += 1  # the leading variable is on the right side of the diagonal variable\n",
    "        if col == n:  # if no leading variable in the row, the RREF is done\n",
    "            break\n",
    "        if res[row, col] == 1:\n",
    "            print(\"skip: r{}\".format(row))\n",
    "        else:\n",
    "            print(\"deliminating: r{0} -> {1} * r{0}\".format(row, 1 / res[row, col]))\n",
    "            res[row] /= res[row, col]\n",
    "        print(res)\n",
    "        row += 1\n",
    "        col += 1\n",
    "    # bottom-up deliminate\n",
    "    for i in range(m - 1, -1, -1):\n",
    "        j = 0  # search the leading variable of the row\n",
    "        while j < n and res[i, j] == 0:\n",
    "            j += 1\n",
    "        if j == n:  # if the row is a zero vector, jump to the row above\n",
    "            continue\n",
    "        for upper_row in range(i - 1, -1, -1):  # deliminating all rows above\n",
    "            print(\"deliminating: r{0} -> {1} * r{2} + r{0}\".format(upper_row, -res[upper_row, j], i))\n",
    "            res[upper_row] += -res[upper_row, j] * res[i]\n",
    "            print(res)\n",
    "    print(\"---- REEF done ----\\n\")\n",
    "    \n",
    "    return res"
   ]
  },
  {
   "cell_type": "code",
   "execution_count": 9,
   "metadata": {
    "ExecuteTime": {
     "end_time": "2022-08-21T13:49:57.961632Z",
     "start_time": "2022-08-21T13:49:57.948127Z"
    },
    "scrolled": true
   },
   "outputs": [
    {
     "name": "stdout",
     "output_type": "stream",
     "text": [
      "---- Reducing to REF  ----\n",
      "deliminating: r1 -> -1.0 * r0 + r1\n",
      "[[1. 0. 1. 1.]\n",
      " [0. 0. 0. 0.]\n",
      " [0. 1. 1. 1.]\n",
      " [1. 1. 1. 0.]\n",
      " [1. 1. 1. 0.]]\n",
      "deliminating: r2 -> -0.0 * r0 + r2\n",
      "[[1. 0. 1. 1.]\n",
      " [0. 0. 0. 0.]\n",
      " [0. 1. 1. 1.]\n",
      " [1. 1. 1. 0.]\n",
      " [1. 1. 1. 0.]]\n",
      "deliminating: r3 -> -1.0 * r0 + r3\n",
      "[[ 1.  0.  1.  1.]\n",
      " [ 0.  0.  0.  0.]\n",
      " [ 0.  1.  1.  1.]\n",
      " [ 0.  1.  0. -1.]\n",
      " [ 1.  1.  1.  0.]]\n",
      "deliminating: r4 -> -1.0 * r0 + r4\n",
      "[[ 1.  0.  1.  1.]\n",
      " [ 0.  0.  0.  0.]\n",
      " [ 0.  1.  1.  1.]\n",
      " [ 0.  1.  0. -1.]\n",
      " [ 0.  1.  0. -1.]]\n",
      "swapping: r1 <-> r4\n",
      "[[ 1.  0.  1.  1.]\n",
      " [ 0.  1.  0. -1.]\n",
      " [ 0.  1.  1.  1.]\n",
      " [ 0.  1.  0. -1.]\n",
      " [ 0.  0.  0.  0.]]\n",
      "deliminating: r2 -> -1.0 * r1 + r2\n",
      "[[ 1.  0.  1.  1.]\n",
      " [ 0.  1.  0. -1.]\n",
      " [ 0.  0.  1.  2.]\n",
      " [ 0.  1.  0. -1.]\n",
      " [ 0.  0.  0.  0.]]\n",
      "deliminating: r3 -> -1.0 * r1 + r3\n",
      "[[ 1.  0.  1.  1.]\n",
      " [ 0.  1.  0. -1.]\n",
      " [ 0.  0.  1.  2.]\n",
      " [ 0.  0.  0.  0.]\n",
      " [ 0.  0.  0.  0.]]\n",
      "deliminating: r4 -> -0.0 * r1 + r4\n",
      "[[ 1.  0.  1.  1.]\n",
      " [ 0.  1.  0. -1.]\n",
      " [ 0.  0.  1.  2.]\n",
      " [ 0.  0.  0.  0.]\n",
      " [ 0.  0.  0.  0.]]\n",
      "deliminating: r3 -> -0.0 * r2 + r3\n",
      "[[ 1.  0.  1.  1.]\n",
      " [ 0.  1.  0. -1.]\n",
      " [ 0.  0.  1.  2.]\n",
      " [ 0.  0.  0.  0.]\n",
      " [ 0.  0.  0.  0.]]\n",
      "deliminating: r4 -> -0.0 * r2 + r4\n",
      "[[ 1.  0.  1.  1.]\n",
      " [ 0.  1.  0. -1.]\n",
      " [ 0.  0.  1.  2.]\n",
      " [ 0.  0.  0.  0.]\n",
      " [ 0.  0.  0.  0.]]\n",
      "swapping: r3 <-> r4\n",
      "[[ 1.  0.  1.  1.]\n",
      " [ 0.  1.  0. -1.]\n",
      " [ 0.  0.  1.  2.]\n",
      " [ 0.  0.  0.  0.]\n",
      " [ 0.  0.  0.  0.]]\n",
      "---- REF done ----\n",
      "\n",
      "---- Reducing to RREF ----\n",
      "skip: r0\n",
      "[[ 1.  0.  1.  1.]\n",
      " [ 0.  1.  0. -1.]\n",
      " [ 0.  0.  1.  2.]\n",
      " [ 0.  0.  0.  0.]\n",
      " [ 0.  0.  0.  0.]]\n",
      "skip: r1\n",
      "[[ 1.  0.  1.  1.]\n",
      " [ 0.  1.  0. -1.]\n",
      " [ 0.  0.  1.  2.]\n",
      " [ 0.  0.  0.  0.]\n",
      " [ 0.  0.  0.  0.]]\n",
      "skip: r2\n",
      "[[ 1.  0.  1.  1.]\n",
      " [ 0.  1.  0. -1.]\n",
      " [ 0.  0.  1.  2.]\n",
      " [ 0.  0.  0.  0.]\n",
      " [ 0.  0.  0.  0.]]\n",
      "deliminating: r1 -> -0.0 * r2 + r1\n",
      "[[ 1.  0.  1.  1.]\n",
      " [ 0.  1.  0. -1.]\n",
      " [ 0.  0.  1.  2.]\n",
      " [ 0.  0.  0.  0.]\n",
      " [ 0.  0.  0.  0.]]\n",
      "deliminating: r0 -> -1.0 * r2 + r0\n",
      "[[ 1.  0.  0. -1.]\n",
      " [ 0.  1.  0. -1.]\n",
      " [ 0.  0.  1.  2.]\n",
      " [ 0.  0.  0.  0.]\n",
      " [ 0.  0.  0.  0.]]\n",
      "deliminating: r0 -> -0.0 * r1 + r0\n",
      "[[ 1.  0.  0. -1.]\n",
      " [ 0.  1.  0. -1.]\n",
      " [ 0.  0.  1.  2.]\n",
      " [ 0.  0.  0.  0.]\n",
      " [ 0.  0.  0.  0.]]\n",
      "---- REEF done ----\n",
      "\n",
      "[[ 1.  0.  0. -1.]\n",
      " [ 0.  1.  0. -1.]\n",
      " [ 0.  0.  1.  2.]\n",
      " [ 0.  0.  0.  0.]\n",
      " [ 0.  0.  0.  0.]]\n"
     ]
    }
   ],
   "source": [
    "A = np.array([[1, 0, 1, 1],\n",
    "             [1, 0, 1, 1],\n",
    "             [0, 1, 1, 1],\n",
    "             [1, 1, 1, 0],\n",
    "             [1, 1, 1, 0]], dtype=np.float64)\n",
    "print(gaussian_elim(A))\n",
    "#The result should look like\n",
    "# [[ 1.,  0.,  0., -1.],\n",
    "#  [ 0.,  1.,  0., -1.],\n",
    "#  [-0., -0.,  1.,  2.],\n",
    "#  [ 0.,  0.,  0.,  0.],\n",
    "#  [ 0.,  0.,  0.,  0.]]"
   ]
  },
  {
   "cell_type": "code",
   "execution_count": 10,
   "metadata": {
    "ExecuteTime": {
     "end_time": "2022-08-21T13:49:57.977126Z",
     "start_time": "2022-08-21T13:49:57.964363Z"
    },
    "scrolled": true
   },
   "outputs": [
    {
     "name": "stdout",
     "output_type": "stream",
     "text": [
      "---- Reducing to REF  ----\n",
      "deliminating: r1 -> -0.5 * r0 + r1\n",
      "[[ 2.   0.   3.   1.   0.   2. ]\n",
      " [ 0.   3.   0.5 -0.5  3.   0. ]\n",
      " [ 3.   2.   3.   1.   1.   2. ]]\n",
      "deliminating: r2 -> -1.5 * r0 + r2\n",
      "[[ 2.   0.   3.   1.   0.   2. ]\n",
      " [ 0.   3.   0.5 -0.5  3.   0. ]\n",
      " [ 0.   2.  -1.5 -0.5  1.  -1. ]]\n",
      "deliminating: r2 -> -0.6666666666666666 * r1 + r2\n",
      "[[ 2.          0.          3.          1.          0.          2.        ]\n",
      " [ 0.          3.          0.5        -0.5         3.          0.        ]\n",
      " [ 0.          0.         -1.83333333 -0.16666667 -1.         -1.        ]]\n",
      "---- REF done ----\n",
      "\n",
      "---- Reducing to RREF ----\n",
      "deliminating: r0 -> 0.5 * r0\n",
      "[[ 1.          0.          1.5         0.5         0.          1.        ]\n",
      " [ 0.          3.          0.5        -0.5         3.          0.        ]\n",
      " [ 0.          0.         -1.83333333 -0.16666667 -1.         -1.        ]]\n",
      "deliminating: r1 -> 0.3333333333333333 * r1\n",
      "[[ 1.          0.          1.5         0.5         0.          1.        ]\n",
      " [ 0.          1.          0.16666667 -0.16666667  1.          0.        ]\n",
      " [ 0.          0.         -1.83333333 -0.16666667 -1.         -1.        ]]\n",
      "deliminating: r2 -> -0.5454545454545455 * r2\n",
      "[[ 1.          0.          1.5         0.5         0.          1.        ]\n",
      " [ 0.          1.          0.16666667 -0.16666667  1.          0.        ]\n",
      " [-0.         -0.          1.          0.09090909  0.54545455  0.54545455]]\n",
      "deliminating: r1 -> -0.16666666666666666 * r2 + r1\n",
      "[[ 1.          0.          1.5         0.5         0.          1.        ]\n",
      " [ 0.          1.          0.         -0.18181818  0.90909091 -0.09090909]\n",
      " [-0.         -0.          1.          0.09090909  0.54545455  0.54545455]]\n",
      "deliminating: r0 -> -1.5 * r2 + r0\n",
      "[[ 1.          0.          0.          0.36363636 -0.81818182  0.18181818]\n",
      " [ 0.          1.          0.         -0.18181818  0.90909091 -0.09090909]\n",
      " [-0.         -0.          1.          0.09090909  0.54545455  0.54545455]]\n",
      "deliminating: r0 -> -0.0 * r1 + r0\n",
      "[[ 1.          0.          0.          0.36363636 -0.81818182  0.18181818]\n",
      " [ 0.          1.          0.         -0.18181818  0.90909091 -0.09090909]\n",
      " [-0.         -0.          1.          0.09090909  0.54545455  0.54545455]]\n",
      "---- REEF done ----\n",
      "\n",
      "[[ 1.          0.          0.          0.36363636 -0.81818182  0.18181818]\n",
      " [ 0.          1.          0.         -0.18181818  0.90909091 -0.09090909]\n",
      " [-0.         -0.          1.          0.09090909  0.54545455  0.54545455]]\n"
     ]
    }
   ],
   "source": [
    "B = np.array([[2, 0, 3, 1, 0, 2],\n",
    "             [1, 3, 2, 0, 3, 1],\n",
    "             [3, 2, 3, 1, 1, 2]])\n",
    "print(gaussian_elim(B))\n",
    "#The result should look like\n",
    "# [[ 1.          0.          0.          0.36363636 -0.81818182  0.18181818]\n",
    "#  [ 0.          1.          0.         -0.18181818  0.90909091 -0.09090909]\n",
    "#  [ 0.          0.          1.          0.09090909  0.54545455  0.54545455]]"
   ]
  },
  {
   "cell_type": "markdown",
   "metadata": {},
   "source": [
    "We will evaluate your code with many different matrices. "
   ]
  },
  {
   "cell_type": "markdown",
   "metadata": {},
   "source": [
    "---\n",
    "**Task 2.2**: A system of linear equations is called homogeneous if the right hand side is the zero vector. Sometimes there will be only trivial solution, namely the zero vector. An example of this matrix is:\n",
    "$$2x_1+4x_2 =0$$\n",
    "$$2x_1+5x_2 =0$$\n",
    "Sometimes there will be non-trivial solutions, e.g.,\n",
    "$$2x_1+4x_2 =0$$\n",
    "$$1x_1+2x_2 =0$$\n",
    "The solution can be $x_1 =-2$, $x_2 =1$.\n",
    " \n",
    "$A=\\big(\\begin{smallmatrix}\n",
    "  2 & 4\\\\\n",
    "  1 & 2\n",
    "\\end{smallmatrix}\\big)$ is called coefficient matrix.\n",
    "Your task is solving a homogeneous system of linear equations based on its reduced row-echelon form, i.e., the output of your *gaussian_elim* function in Task 2.1. You **MUST NOT** revoke any numpy inbuilt functions you used in Task 1. Your function needs to work under **different shapes** of $A$. \n",
    "\n",
    "The *solve_homogeneous* function should be according to the following specifications:\n",
    "* Take as input the coefficient matrix $A$. \n",
    "* Return:\n",
    "    - 0 if it only has trivial solution. Type: int.\n",
    "    - otherwise, return any two different non-trivial solutions. Type: tuple((np.ndarray, Type: np.ndarray)).  Note that the dimensions of the np.ndarray should be 1, i.e., using one pair of square brackets. See demo outputs below."
   ]
  },
  {
   "cell_type": "code",
   "execution_count": 11,
   "metadata": {
    "ExecuteTime": {
     "end_time": "2022-08-21T13:49:57.992313Z",
     "start_time": "2022-08-21T13:49:57.979128Z"
    }
   },
   "outputs": [],
   "source": [
    "def solve_homogeneous(A):\n",
    "    # YOUR CODE HERE\n",
    "    A_rref = gaussian_elim(A)\n",
    "    m, n = A_rref.shape\n",
    "    res = [0 for _ in range(n)]\n",
    "    \n",
    "    row, col = 0, 0\n",
    "    # search free variables\n",
    "    while row < m and col < n:\n",
    "        if A_rref[row][col] == 1:\n",
    "            row += 1\n",
    "            col += 1\n",
    "            continue\n",
    "        res[col] = 1  # set free variable to 1\n",
    "        col += 1  # keep search from its left neighbor\n",
    "    # check whether the last line has free variables\n",
    "    # e.g. A = [[1, 0, 0], [0, 1, 2]], X_3 is a free varibale\n",
    "    res[col:n] = [1] * (n - col)  \n",
    "    if 1 in res:\n",
    "        free_var = [i for i in range(len(res)) if res[i] == 1]\n",
    "        print(\"index of free variable(s): {}\\n\".format(free_var))\n",
    "    else:\n",
    "        # if no free variable, return 0 directly\n",
    "        print(\"no free variable\\n\")\n",
    "        return 0\n",
    "    \n",
    "    leading_var_list = [i for i in range(len(res)) if res[i] == 0]\n",
    "    for leading_var in leading_var_list:\n",
    "        # suppose A_rref[leading_var, :] = [0, 1, 0, 2], res = [0, 0, 0, 1]\n",
    "        # then X_2 + 2 * X_4 = 0, X_2 = -2 * X_4 = -2 * 1 = -2\n",
    "        res[leading_var] = -1 * sum([A_rref[leading_var, i] * res[i] for i in range(n)])\n",
    "\n",
    "    return (np.array(res), 2 * np.array(res))"
   ]
  },
  {
   "cell_type": "code",
   "execution_count": 12,
   "metadata": {
    "ExecuteTime": {
     "end_time": "2022-08-21T13:49:58.008000Z",
     "start_time": "2022-08-21T13:49:57.993127Z"
    },
    "scrolled": true
   },
   "outputs": [
    {
     "name": "stdout",
     "output_type": "stream",
     "text": [
      "---- Reducing to REF  ----\n",
      "deliminating: r1 -> -2.0 * r0 + r1\n",
      "[[2. 2. 3.]\n",
      " [0. 1. 0.]\n",
      " [7. 8. 9.]]\n",
      "deliminating: r2 -> -3.5 * r0 + r2\n",
      "[[ 2.   2.   3. ]\n",
      " [ 0.   1.   0. ]\n",
      " [ 0.   1.  -1.5]]\n",
      "deliminating: r2 -> -1.0 * r1 + r2\n",
      "[[ 2.   2.   3. ]\n",
      " [ 0.   1.   0. ]\n",
      " [ 0.   0.  -1.5]]\n",
      "---- REF done ----\n",
      "\n",
      "---- Reducing to RREF ----\n",
      "deliminating: r0 -> 0.5 * r0\n",
      "[[ 1.   1.   1.5]\n",
      " [ 0.   1.   0. ]\n",
      " [ 0.   0.  -1.5]]\n",
      "skip: r1\n",
      "[[ 1.   1.   1.5]\n",
      " [ 0.   1.   0. ]\n",
      " [ 0.   0.  -1.5]]\n",
      "deliminating: r2 -> -0.6666666666666666 * r2\n",
      "[[ 1.   1.   1.5]\n",
      " [ 0.   1.   0. ]\n",
      " [-0.  -0.   1. ]]\n",
      "deliminating: r1 -> -0.0 * r2 + r1\n",
      "[[ 1.   1.   1.5]\n",
      " [ 0.   1.   0. ]\n",
      " [-0.  -0.   1. ]]\n",
      "deliminating: r0 -> -1.5 * r2 + r0\n",
      "[[ 1.  1.  0.]\n",
      " [ 0.  1.  0.]\n",
      " [-0. -0.  1.]]\n",
      "deliminating: r0 -> -1.0 * r1 + r0\n",
      "[[ 1.  0.  0.]\n",
      " [ 0.  1.  0.]\n",
      " [-0. -0.  1.]]\n",
      "---- REEF done ----\n",
      "\n",
      "no free variable\n",
      "\n",
      "0\n"
     ]
    }
   ],
   "source": [
    "A = np.array([[2, 2, 3],\n",
    "              [4, 5, 6],\n",
    "              [7, 8, 9]], dtype=np.float64)\n",
    "print(solve_homogeneous(A))\n",
    "#The result should look like\n",
    "# 0"
   ]
  },
  {
   "cell_type": "code",
   "execution_count": 13,
   "metadata": {
    "ExecuteTime": {
     "end_time": "2022-08-21T13:49:58.023186Z",
     "start_time": "2022-08-21T13:49:58.009270Z"
    },
    "scrolled": true
   },
   "outputs": [
    {
     "name": "stdout",
     "output_type": "stream",
     "text": [
      "---- Reducing to REF  ----\n",
      "deliminating: r1 -> -1.0 * r0 + r1\n",
      "[[1. 2. 4.]\n",
      " [0. 0. 0.]\n",
      " [1. 8. 7.]]\n",
      "deliminating: r2 -> -1.0 * r0 + r2\n",
      "[[1. 2. 4.]\n",
      " [0. 0. 0.]\n",
      " [0. 6. 3.]]\n",
      "swapping: r1 <-> r2\n",
      "[[1. 2. 4.]\n",
      " [0. 6. 3.]\n",
      " [0. 0. 0.]]\n",
      "deliminating: r2 -> -0.0 * r1 + r2\n",
      "[[1. 2. 4.]\n",
      " [0. 6. 3.]\n",
      " [0. 0. 0.]]\n",
      "---- REF done ----\n",
      "\n",
      "---- Reducing to RREF ----\n",
      "skip: r0\n",
      "[[1. 2. 4.]\n",
      " [0. 6. 3.]\n",
      " [0. 0. 0.]]\n",
      "deliminating: r1 -> 0.16666666666666666 * r1\n",
      "[[1.  2.  4. ]\n",
      " [0.  1.  0.5]\n",
      " [0.  0.  0. ]]\n",
      "deliminating: r0 -> -2.0 * r1 + r0\n",
      "[[1.  0.  3. ]\n",
      " [0.  1.  0.5]\n",
      " [0.  0.  0. ]]\n",
      "---- REEF done ----\n",
      "\n",
      "index of free variable(s): [2]\n",
      "\n",
      "(array([-3. , -0.5,  1. ]), array([-6., -1.,  2.]))\n"
     ]
    }
   ],
   "source": [
    "B = np.array([[1, 2, 4],\n",
    "              [1, 2, 4],\n",
    "              [1, 8, 7]], dtype=np.float64)\n",
    "print(solve_homogeneous(B))\n",
    "#The result should look like\n",
    "# (array([-3. , -0.5,  1. ]), array([-6., -1.,  2.]))\n",
    "\n",
    "# Note that results are not unique"
   ]
  },
  {
   "cell_type": "code",
   "execution_count": 14,
   "metadata": {
    "ExecuteTime": {
     "end_time": "2022-08-21T13:49:58.038939Z",
     "start_time": "2022-08-21T13:49:58.025129Z"
    },
    "scrolled": true
   },
   "outputs": [
    {
     "name": "stdout",
     "output_type": "stream",
     "text": [
      "---- Reducing to REF  ----\n",
      "deliminating: r1 -> -4.0 * r0 + r1\n",
      "[[ 1.  2.  3.]\n",
      " [ 0. -3. -6.]]\n",
      "---- REF done ----\n",
      "\n",
      "---- Reducing to RREF ----\n",
      "skip: r0\n",
      "[[ 1.  2.  3.]\n",
      " [ 0. -3. -6.]]\n",
      "deliminating: r1 -> -0.3333333333333333 * r1\n",
      "[[ 1.  2.  3.]\n",
      " [-0.  1.  2.]]\n",
      "deliminating: r0 -> -2.0 * r1 + r0\n",
      "[[ 1.  0. -1.]\n",
      " [-0.  1.  2.]]\n",
      "---- REEF done ----\n",
      "\n",
      "index of free variable(s): [2]\n",
      "\n",
      "(array([ 1., -2.,  1.]), array([ 2., -4.,  2.]))\n"
     ]
    }
   ],
   "source": [
    "C = np.array([[1, 2, 3],\n",
    "              [4, 5, 6]], dtype=np.float64)\n",
    "print(solve_homogeneous(C))\n",
    "#The result should look like\n",
    "# (array([ 1., -2.,  1.]), array([ 2., -4.,  2.]))\n",
    "\n",
    "# Note that results are not unique"
   ]
  },
  {
   "cell_type": "code",
   "execution_count": 15,
   "metadata": {
    "ExecuteTime": {
     "end_time": "2022-08-21T13:49:58.054125Z",
     "start_time": "2022-08-21T13:49:58.041128Z"
    },
    "scrolled": true
   },
   "outputs": [
    {
     "name": "stdout",
     "output_type": "stream",
     "text": [
      "---- Reducing to REF  ----\n",
      "deliminating: r1 -> -3.0 * r0 + r1\n",
      "[[ 1.  2.]\n",
      " [ 0. -2.]\n",
      " [ 5.  6.]]\n",
      "deliminating: r2 -> -5.0 * r0 + r2\n",
      "[[ 1.  2.]\n",
      " [ 0. -2.]\n",
      " [ 0. -4.]]\n",
      "deliminating: r2 -> -2.0 * r1 + r2\n",
      "[[ 1.  2.]\n",
      " [ 0. -2.]\n",
      " [ 0.  0.]]\n",
      "---- REF done ----\n",
      "\n",
      "---- Reducing to RREF ----\n",
      "skip: r0\n",
      "[[ 1.  2.]\n",
      " [ 0. -2.]\n",
      " [ 0.  0.]]\n",
      "deliminating: r1 -> -0.5 * r1\n",
      "[[ 1.  2.]\n",
      " [-0.  1.]\n",
      " [ 0.  0.]]\n",
      "deliminating: r0 -> -2.0 * r1 + r0\n",
      "[[ 1.  0.]\n",
      " [-0.  1.]\n",
      " [ 0.  0.]]\n",
      "---- REEF done ----\n",
      "\n",
      "no free variable\n",
      "\n",
      "0\n"
     ]
    }
   ],
   "source": [
    "D = np.array([[1, 2],\n",
    "              [3, 4],\n",
    "              [5, 6]], dtype=np.float64)\n",
    "print(solve_homogeneous(D))\n",
    "#The result should look like\n",
    "# 0"
   ]
  },
  {
   "cell_type": "markdown",
   "metadata": {},
   "source": [
    "We will evaluate your code with many different matrices."
   ]
  },
  {
   "cell_type": "markdown",
   "metadata": {},
   "source": [
    "---\n",
    "**Task 2.3**: A system of linear equations is called non-homogeneous if the right hand side is not the zero vector. A non-homogeneous system of linear equations has\n",
    "* no solution, or\n",
    "* a unique solution, or\n",
    "* infinite number of solutions\n",
    "\n",
    "Similar to Task 2.2, your task is solving a non-homogeneous system of linear equations. You **MUST NOT** revoke any numpy inbuilt functions you used in Task 1, however, you are allowed to use the functions you defined in Task 2.2. Your function needs to work under **different shapes** of augmented matrix $[A|b]$. \n",
    "\n",
    "The *solve_nonhomogeneous* function should be according to following specifications:\n",
    "* Take as input the augmented matrix $[A|b]$. \n",
    "* Return:\n",
    "    - None if it has no solution at all. Type: None.\n",
    "    - the single solution if it only has one solution. Type: np.ndarray.\n",
    "    - otherwise, return any two different solutions if it has more than one solutions. Type: tuple((np.ndarray, Type: np.ndarray)).\n",
    "*  Note that the dimensions of the np.ndarray should be 1, especially, one pair of square brackets. See demo outputs below.    "
   ]
  },
  {
   "cell_type": "code",
   "execution_count": 16,
   "metadata": {
    "ExecuteTime": {
     "end_time": "2022-08-21T13:49:58.070127Z",
     "start_time": "2022-08-21T13:49:58.056127Z"
    }
   },
   "outputs": [],
   "source": [
    "def solve_nonhomogeneous(A_aug):\n",
    "    # YOUR CODE HERE\n",
    "    A_aug_rref = gaussian_elim(A_aug)\n",
    "    A, b = A_aug_rref[:, :-1], A_aug_rref[:, -1]  # seperate the augumentation matrix\n",
    "    m, n = A.shape\n",
    "    res = [0 for _ in range(n)]\n",
    "    \n",
    "    row, col = 0, 0\n",
    "    # search free variables\n",
    "    while row < m and col < n:\n",
    "        if A[row][col] == 1:\n",
    "            row += 1\n",
    "            col += 1\n",
    "            continue\n",
    "        res[col] = 1  # set free variable to 1\n",
    "        col += 1  # keep search from its left neighbor\n",
    "    # check whether the last line has free variables\n",
    "    # e.g. A = [[1, 0, 0], [0, 1, 2]], X_3 is a free varibale\n",
    "    res[col:n] = [1] * (n - col)  \n",
    "    if 1 in res:\n",
    "        free_var = [i for i in range(len(res)) if res[i] == 1]\n",
    "        print(\"index of free variable(s): {}\\n\".format(free_var))\n",
    "    else:\n",
    "        # if no free variable, return b as the solution\n",
    "        print(\"no free variable\\n\")\n",
    "        return b\n",
    "    \n",
    "    leading_var_list = [i for i in range(len(res)) if res[i] == 0]\n",
    "    n_leading_var = len(leading_var_list)\n",
    "    for i in range(n_leading_var, m):\n",
    "        if b[i] != 0:\n",
    "            return None\n",
    "    \n",
    "    # deep copy, set the value of free varibales to 2 instead of 1\n",
    "    res_2 = [2 * x for x in res]\n",
    "    for leading_var in leading_var_list:\n",
    "        # suppose A[1, :] = [0, 1, 0, 2], res = [0, 0, 0, 1], b = [0, 2, 0, 0]\n",
    "        # then X_2 + 2 * X_4 = 2, X_2 = -2 * X_4 + 2= -2 * 1 + 2 = 0\n",
    "        res[leading_var] = -1 * sum([A[leading_var, i] * res[i] for i in range(n)]) + b[leading_var]\n",
    "        res_2[leading_var] = -1 * sum([A[leading_var, i] * res_2[i] for i in range(n)]) + b[leading_var]\n",
    "        \n",
    "        \n",
    "    return (np.array(res), np.array(res_2))"
   ]
  },
  {
   "cell_type": "code",
   "execution_count": 17,
   "metadata": {
    "ExecuteTime": {
     "end_time": "2022-08-21T13:49:58.085126Z",
     "start_time": "2022-08-21T13:49:58.072127Z"
    },
    "scrolled": true
   },
   "outputs": [
    {
     "name": "stdout",
     "output_type": "stream",
     "text": [
      "---- Reducing to REF  ----\n",
      "deliminating: r1 -> -2.0 * r0 + r1\n",
      "[[1. 2. 3. 1.]\n",
      " [0. 0. 0. 1.]\n",
      " [7. 8. 9. 4.]]\n",
      "deliminating: r2 -> -7.0 * r0 + r2\n",
      "[[  1.   2.   3.   1.]\n",
      " [  0.   0.   0.   1.]\n",
      " [  0.  -6. -12.  -3.]]\n",
      "swapping: r1 <-> r2\n",
      "[[  1.   2.   3.   1.]\n",
      " [  0.  -6. -12.  -3.]\n",
      " [  0.   0.   0.   1.]]\n",
      "deliminating: r2 -> 0.0 * r1 + r2\n",
      "[[  1.   2.   3.   1.]\n",
      " [  0.  -6. -12.  -3.]\n",
      " [  0.   0.   0.   1.]]\n",
      "---- REF done ----\n",
      "\n",
      "---- Reducing to RREF ----\n",
      "skip: r0\n",
      "[[  1.   2.   3.   1.]\n",
      " [  0.  -6. -12.  -3.]\n",
      " [  0.   0.   0.   1.]]\n",
      "deliminating: r1 -> -0.16666666666666666 * r1\n",
      "[[ 1.   2.   3.   1. ]\n",
      " [-0.   1.   2.   0.5]\n",
      " [ 0.   0.   0.   1. ]]\n",
      "skip: r2\n",
      "[[ 1.   2.   3.   1. ]\n",
      " [-0.   1.   2.   0.5]\n",
      " [ 0.   0.   0.   1. ]]\n",
      "deliminating: r1 -> -0.5 * r2 + r1\n",
      "[[ 1.  2.  3.  1.]\n",
      " [-0.  1.  2.  0.]\n",
      " [ 0.  0.  0.  1.]]\n",
      "deliminating: r0 -> -1.0 * r2 + r0\n",
      "[[ 1.  2.  3.  0.]\n",
      " [-0.  1.  2.  0.]\n",
      " [ 0.  0.  0.  1.]]\n",
      "deliminating: r0 -> -2.0 * r1 + r0\n",
      "[[ 1.  0. -1.  0.]\n",
      " [-0.  1.  2.  0.]\n",
      " [ 0.  0.  0.  1.]]\n",
      "---- REEF done ----\n",
      "\n",
      "index of free variable(s): [2]\n",
      "\n",
      "None\n"
     ]
    }
   ],
   "source": [
    "A = np.array([\n",
    "    [1, 2, 3, 1],\n",
    "    [2, 4, 6, 3],\n",
    "    [7, 8, 9, 4]\n",
    "])\n",
    "print(solve_nonhomogeneous(A))\n",
    "#The result should look like\n",
    "# None"
   ]
  },
  {
   "cell_type": "code",
   "execution_count": 18,
   "metadata": {
    "ExecuteTime": {
     "end_time": "2022-08-21T13:49:58.101127Z",
     "start_time": "2022-08-21T13:49:58.086977Z"
    },
    "scrolled": true
   },
   "outputs": [
    {
     "name": "stdout",
     "output_type": "stream",
     "text": [
      "---- Reducing to REF  ----\n",
      "deliminating: r1 -> -0.0 * r0 + r1\n",
      "[[ 1.  0.  1.  6.]\n",
      " [ 0. -3.  1.  7.]\n",
      " [ 2.  1.  3. 15.]]\n",
      "deliminating: r2 -> -2.0 * r0 + r2\n",
      "[[ 1.  0.  1.  6.]\n",
      " [ 0. -3.  1.  7.]\n",
      " [ 0.  1.  1.  3.]]\n",
      "deliminating: r2 -> 0.3333333333333333 * r1 + r2\n",
      "[[ 1.          0.          1.          6.        ]\n",
      " [ 0.         -3.          1.          7.        ]\n",
      " [ 0.          0.          1.33333333  5.33333333]]\n",
      "---- REF done ----\n",
      "\n",
      "---- Reducing to RREF ----\n",
      "skip: r0\n",
      "[[ 1.          0.          1.          6.        ]\n",
      " [ 0.         -3.          1.          7.        ]\n",
      " [ 0.          0.          1.33333333  5.33333333]]\n",
      "deliminating: r1 -> -0.3333333333333333 * r1\n",
      "[[ 1.          0.          1.          6.        ]\n",
      " [-0.          1.         -0.33333333 -2.33333333]\n",
      " [ 0.          0.          1.33333333  5.33333333]]\n",
      "deliminating: r2 -> 0.75 * r2\n",
      "[[ 1.          0.          1.          6.        ]\n",
      " [-0.          1.         -0.33333333 -2.33333333]\n",
      " [ 0.          0.          1.          4.        ]]\n",
      "deliminating: r1 -> 0.3333333333333333 * r2 + r1\n",
      "[[ 1.  0.  1.  6.]\n",
      " [ 0.  1.  0. -1.]\n",
      " [ 0.  0.  1.  4.]]\n",
      "deliminating: r0 -> -1.0 * r2 + r0\n",
      "[[ 1.  0.  0.  2.]\n",
      " [ 0.  1.  0. -1.]\n",
      " [ 0.  0.  1.  4.]]\n",
      "deliminating: r0 -> -0.0 * r1 + r0\n",
      "[[ 1.  0.  0.  2.]\n",
      " [ 0.  1.  0. -1.]\n",
      " [ 0.  0.  1.  4.]]\n",
      "---- REEF done ----\n",
      "\n",
      "no free variable\n",
      "\n",
      "[ 2. -1.  4.]\n"
     ]
    }
   ],
   "source": [
    "B = np.array([\n",
    "    [1, 0, 1, 6],\n",
    "    [0, -3, 1, 7],\n",
    "    [2, 1, 3, 15]\n",
    "])\n",
    "print(solve_nonhomogeneous(B))\n",
    "#The result should look like\n",
    "# [ 2. -1.  4.]"
   ]
  },
  {
   "cell_type": "code",
   "execution_count": 19,
   "metadata": {
    "ExecuteTime": {
     "end_time": "2022-08-21T13:49:58.116127Z",
     "start_time": "2022-08-21T13:49:58.103127Z"
    },
    "scrolled": true
   },
   "outputs": [
    {
     "name": "stdout",
     "output_type": "stream",
     "text": [
      "---- Reducing to REF  ----\n",
      "deliminating: r1 -> -2.0 * r0 + r1\n",
      "[[1. 2. 3. 1.]\n",
      " [0. 0. 0. 0.]\n",
      " [7. 8. 9. 4.]]\n",
      "deliminating: r2 -> -7.0 * r0 + r2\n",
      "[[  1.   2.   3.   1.]\n",
      " [  0.   0.   0.   0.]\n",
      " [  0.  -6. -12.  -3.]]\n",
      "swapping: r1 <-> r2\n",
      "[[  1.   2.   3.   1.]\n",
      " [  0.  -6. -12.  -3.]\n",
      " [  0.   0.   0.   0.]]\n",
      "deliminating: r2 -> 0.0 * r1 + r2\n",
      "[[  1.   2.   3.   1.]\n",
      " [  0.  -6. -12.  -3.]\n",
      " [  0.   0.   0.   0.]]\n",
      "---- REF done ----\n",
      "\n",
      "---- Reducing to RREF ----\n",
      "skip: r0\n",
      "[[  1.   2.   3.   1.]\n",
      " [  0.  -6. -12.  -3.]\n",
      " [  0.   0.   0.   0.]]\n",
      "deliminating: r1 -> -0.16666666666666666 * r1\n",
      "[[ 1.   2.   3.   1. ]\n",
      " [-0.   1.   2.   0.5]\n",
      " [ 0.   0.   0.   0. ]]\n",
      "deliminating: r0 -> -2.0 * r1 + r0\n",
      "[[ 1.   0.  -1.   0. ]\n",
      " [-0.   1.   2.   0.5]\n",
      " [ 0.   0.   0.   0. ]]\n",
      "---- REEF done ----\n",
      "\n",
      "index of free variable(s): [2]\n",
      "\n",
      "(array([ 1. , -1.5,  1. ]), array([ 2. , -3.5,  2. ]))\n"
     ]
    }
   ],
   "source": [
    "C = np.array([\n",
    "    [1, 2, 3, 1],\n",
    "    [2, 4, 6, 2],\n",
    "    [7, 8, 9, 4]\n",
    "])\n",
    "print(solve_nonhomogeneous(C))\n",
    "#The result should look like\n",
    "# (array([ 1. , -1.5,  1. ]), array([ 2. , -3.5,  2. ]))"
   ]
  },
  {
   "cell_type": "markdown",
   "metadata": {},
   "source": [
    "We will evaluate your code with many different matrices."
   ]
  },
  {
   "cell_type": "markdown",
   "metadata": {},
   "source": [
    "## Task 3: Gram-Schmidt orthogonalization\n",
    "\n",
    "The Gram-Schmidt algorithm is used for finding an orthonormal basis for the subspace spanned by a set of vectors.\n",
    "\n",
    "Given a linearly independent set of vectors $S = \\lbrace \\mathbf{v_1}, \\mathbf{v_2}, ..., \\mathbf{v_n} \\rbrace$, an orthogonal set $S' = \\lbrace \\mathbf{u_1}, \\mathbf{u_2}, ..., \\mathbf{u_n} \\rbrace $ can be generated under this procedure:\n",
    "\n",
    "\n",
    "$\\mathbf{u_1} = \\mathbf{v_1}$\\\n",
    "$\\mathbf{u_2} = \\mathbf{v_2} - \\textrm{proj}_{\\mathbf{u_1}}(\\mathbf{v_2})$\\\n",
    "$\\mathbf{u_3} = \\mathbf{v_3} - \\textrm{proj}_{\\mathbf{u_1}}(\\mathbf{v_3}) - \\textrm{proj}_{\\mathbf{u_2}}(\\mathbf{v_3})$\\\n",
    "...\\\n",
    "$\\mathbf{u_n} = \\mathbf{v_n} - \\sum_{i=1}^{n-1}\\textrm{proj}_{\\mathbf{u_i}}(\\mathbf{v_n})$,\n",
    "\n",
    "where $\\textrm{proj}_{\\mathbf{u}}(\\mathbf{v}) = \\dfrac{\\langle \\mathbf{u}, \\mathbf{v} \\rangle}{\\langle \\mathbf{u}, \\mathbf{u} \\rangle}\\mathbf{u}$\n",
    "\n",
    "The orthogonal set is not normalized, you can normalize it by $\\mathbf{e_i} = \\dfrac{\\mathbf{u_i}}{||\\mathbf{u_i}||}$\n",
    "\n",
    "---\n",
    "**Read more:** https://en.wikipedia.org/wiki/Gram–Schmidt_process"
   ]
  },
  {
   "cell_type": "markdown",
   "metadata": {},
   "source": [
    "---\n",
    "**Task 3.1**: Implement a function that finds an orthonormal basis of row vectors for matrix $A$. The *gram_schmidt* function should be according to following specifications: \n",
    "* Take as input any matrix $A$.\n",
    "* Return a matrix with the orthonormal basis vectors as the rows.\n",
    "\n",
    "---\n",
    "**NOTE**: The resulting basis should be orthonormal, so each basis vector should be of norm 1."
   ]
  },
  {
   "cell_type": "code",
   "execution_count": 20,
   "metadata": {
    "ExecuteTime": {
     "end_time": "2022-08-21T13:49:58.131816Z",
     "start_time": "2022-08-21T13:49:58.118128Z"
    }
   },
   "outputs": [],
   "source": [
    "# Find orthonormal basis using gram-schmidt \n",
    "def gram_schmidt(A):\n",
    "    # YOUR CODE HERE\n",
    "    \n",
    "    m, n = A.shape\n",
    "    A_orthogonal = []\n",
    "    A_normalized_orthogonal = []\n",
    "    \n",
    "    for row_A in range(m):\n",
    "        orthogonal = np.array(A[row_A])  # the vector to be transformed\n",
    "        print(\"original row {}: {}\".format(row_A, A[row_A]))\n",
    "        \n",
    "        # Gram-Schmidt orthogonalization\n",
    "        for row_A_orthogonal in range(row_A):\n",
    "            denominator_inner_prod = A[row_A] @ A_orthogonal[row_A_orthogonal].T  # <v, u>\n",
    "            numerator_inner_prod = A_orthogonal[row_A_orthogonal] @  A_orthogonal[row_A_orthogonal].T  # <u, u>\n",
    "            # cumulatively subtract Proj_u_j(v_i)， where j = {1, 2, 3, ..., v_(i-1)}\n",
    "            orthogonal = orthogonal - (denominator_inner_prod / numerator_inner_prod) * A_orthogonal[row_A_orthogonal]\n",
    "        A_orthogonal.append(orthogonal)\n",
    "        print(\"orthogonal row {}: {}\".format(row_A, A_orthogonal[row_A]))\n",
    "        \n",
    "        # check whether the orthogonal vector is a zero vector\n",
    "        if orthogonal @ orthogonal.T > 0:  # if not, normalize the vector\n",
    "            orthogonal_normalized = orthogonal / pow(orthogonal @ orthogonal.T, 0.5)  \n",
    "            A_normalized_orthogonal.append(orthogonal_normalized)\n",
    "            print(\"normalized orthogonal row {}: {}\\n\".format(row_A, A_normalized_orthogonal[row_A]))\n",
    "        else:\n",
    "            print(\"invalid normalized orthogonal row {}\\n\".format(row_A))\n",
    "        \n",
    "    \n",
    "    return np.array([list(row) for row in A_normalized_orthogonal])"
   ]
  },
  {
   "cell_type": "code",
   "execution_count": 21,
   "metadata": {
    "ExecuteTime": {
     "end_time": "2022-08-21T13:49:58.147128Z",
     "start_time": "2022-08-21T13:49:58.134126Z"
    }
   },
   "outputs": [
    {
     "name": "stdout",
     "output_type": "stream",
     "text": [
      "original row 0: [ 0 -1  2  0  2]\n",
      "orthogonal row 0: [ 0 -1  2  0  2]\n",
      "normalized orthogonal row 0: [ 0.         -0.33333333  0.66666667  0.          0.66666667]\n",
      "\n",
      "original row 1: [ 1 -3  1 -1  2]\n",
      "orthogonal row 1: [ 1. -2. -1. -1.  0.]\n",
      "normalized orthogonal row 1: [ 0.37796447 -0.75592895 -0.37796447 -0.37796447  0.        ]\n",
      "\n",
      "original row 2: [-3  4  1  2  1]\n",
      "orthogonal row 2: [-1.  0. -1.  0.  1.]\n",
      "normalized orthogonal row 2: [-0.57735027  0.         -0.57735027  0.          0.57735027]\n",
      "\n",
      "original row 3: [-1 -3  5  0  7]\n",
      "orthogonal row 3: [0. 0. 0. 0. 0.]\n",
      "invalid normalized orthogonal row 3\n",
      "\n",
      "[[ 0.         -0.33333333  0.66666667  0.          0.66666667]\n",
      " [ 0.37796447 -0.75592895 -0.37796447 -0.37796447  0.        ]\n",
      " [-0.57735027  0.         -0.57735027  0.          0.57735027]]\n"
     ]
    }
   ],
   "source": [
    "A = np.array([[0, -1, 2, 0, 2],\n",
    "              [1, -3, 1, -1, 2],\n",
    "              [-3, 4, 1, 2, 1],\n",
    "              [-1, -3, 5, 0, 7]])\n",
    "\n",
    "print(gram_schmidt(A))\n",
    "\n",
    "#The result should look like\n",
    "# [[ 0.         -0.33333333  0.66666667  0.          0.66666667]\n",
    "#  [ 0.37796447 -0.75592895 -0.37796447 -0.37796447  0.        ]\n",
    "#  [-0.57735027  0.         -0.57735027  0.          0.57735027]]"
   ]
  },
  {
   "cell_type": "markdown",
   "metadata": {},
   "source": [
    "We will evaluate your code with many different matrices."
   ]
  },
  {
   "cell_type": "markdown",
   "metadata": {},
   "source": [
    "---\n",
    "**TASK 3.2:** Implement a function that accepts a matrix and returns TRUE if all the rows of that matrix are orthogonal to one another, and each one of them is of length 1. Use this function to verify the output of your *gram_schmidt* function is actually correct. Again, you must program this function yourself, rather than relying on a library function.\n",
    "\n",
    "You can check whether your algorithms work using the last 6 lines in the code given below."
   ]
  },
  {
   "cell_type": "code",
   "execution_count": 22,
   "metadata": {
    "ExecuteTime": {
     "end_time": "2022-08-21T13:49:58.163178Z",
     "start_time": "2022-08-21T13:49:58.149127Z"
    },
    "scrolled": false
   },
   "outputs": [
    {
     "name": "stdout",
     "output_type": "stream",
     "text": [
      "\n",
      "CHECKING TRUE TEST (SHOULD RETURN TRUE):\n",
      "all rows are have length 1\n",
      "all rows are orthogonal with others\n",
      "True\n",
      "\n",
      "CHECKING FALSE TEST (SHOULD RETURN FALSE):\n",
      "the length of row 0 (1.7320508075688772) does not equal to 1\n",
      "False\n"
     ]
    }
   ],
   "source": [
    "def orthogonality_checker(A):\n",
    "    # YOUR CODE HERE\n",
    "    \n",
    "    m, n = A.shape\n",
    "    threshold = 10e-6\n",
    "    # check whether the length equals to 1\n",
    "    for row in range(m):\n",
    "        row_length = pow(A[row] @ A[row].T, 0.5)\n",
    "        if abs(row_length - 1) > threshold:\n",
    "            print(\"the length of row {} ({}) does not equal to 1\".format(row, row_length))\n",
    "            return False\n",
    "    print(\"all rows are have length 1\")\n",
    "       \n",
    "    for row_i in range(m):\n",
    "        for row_j in range(row_i + 1, m):\n",
    "            if A[row_i] @ A[row_j] != 0:\n",
    "                print(\"row {} and row {} are not orthogonal\".format(row_i, row_j))\n",
    "                return False\n",
    "    print(\"all rows are orthogonal with others\")\n",
    "    \n",
    "    return True\n",
    "    \n",
    "\n",
    "true_test = np.eye(3,3)\n",
    "false_test = np.ones((3,3))\n",
    "print('\\nCHECKING TRUE TEST (SHOULD RETURN TRUE):')\n",
    "print(orthogonality_checker(true_test))\n",
    "print('\\nCHECKING FALSE TEST (SHOULD RETURN FALSE):')\n",
    "print(orthogonality_checker(false_test))"
   ]
  },
  {
   "cell_type": "markdown",
   "metadata": {},
   "source": [
    "We will evaluate your code with many different matrices."
   ]
  }
 ],
 "metadata": {
  "kernelspec": {
   "display_name": "Python 3 (ipykernel)",
   "language": "python",
   "name": "python3"
  },
  "language_info": {
   "codemirror_mode": {
    "name": "ipython",
    "version": 3
   },
   "file_extension": ".py",
   "mimetype": "text/x-python",
   "name": "python",
   "nbconvert_exporter": "python",
   "pygments_lexer": "ipython3",
   "version": "3.9.12"
  },
  "toc": {
   "base_numbering": 1,
   "nav_menu": {
    "height": "174px",
    "width": "578px"
   },
   "number_sections": true,
   "sideBar": true,
   "skip_h1_title": false,
   "title_cell": "Table of Contents",
   "title_sidebar": "Contents",
   "toc_cell": false,
   "toc_position": {
    "height": "calc(100% - 180px)",
    "left": "10px",
    "top": "150px",
    "width": "407px"
   },
   "toc_section_display": true,
   "toc_window_display": true
  },
  "varInspector": {
   "cols": {
    "lenName": 16,
    "lenType": 16,
    "lenVar": 40
   },
   "kernels_config": {
    "python": {
     "delete_cmd_postfix": "",
     "delete_cmd_prefix": "del ",
     "library": "var_list.py",
     "varRefreshCmd": "print(var_dic_list())"
    },
    "r": {
     "delete_cmd_postfix": ") ",
     "delete_cmd_prefix": "rm(",
     "library": "var_list.r",
     "varRefreshCmd": "cat(var_dic_list()) "
    }
   },
   "types_to_exclude": [
    "module",
    "function",
    "builtin_function_or_method",
    "instance",
    "_Feature"
   ],
   "window_display": false
  }
 },
 "nbformat": 4,
 "nbformat_minor": 2
}
