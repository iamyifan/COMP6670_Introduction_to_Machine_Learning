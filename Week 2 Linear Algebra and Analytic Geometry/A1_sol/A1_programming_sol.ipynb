{
 "cells": [
  {
   "cell_type": "markdown",
   "metadata": {},
   "source": [
    "## COMP3670 Programming Assignment 1 - Linear Algebra and Analytic Geometry\n",
    "---\n",
    "\n",
    "**Enter Your Student ID:** \n",
    "\n",
    "**Your Name:**\n",
    "    \n",
    "**Deadline:**\n",
    "\n",
    "**Submit:** Write your answers in this file, and submit a single Jupyter Notebook file (.ipynb) on Wattle. Rename this file with your student number as 'uXXXXXXX.ipynb'.\n",
    "\n",
    "**Enter Discussion Partner IDs Below:**\n",
    "You could add more IDs with the same markdown format above.\n",
    "\n",
    "\n",
    "\n",
    "---\n",
    "**Marking distribution for the assignment**\n",
    "\n",
    "- Task1 = 10%\n",
    "- Task2 = 50%\n",
    "- Task3 = 40%\n",
    "\n",
    "**You will get full marks if your program passes all the tests; you will get partial marks if it passes some cases. There is no process marks (we do not look into your codes).**"
   ]
  },
  {
   "cell_type": "markdown",
   "metadata": {},
   "source": [
    "## Task 0: Introduction\n",
    "---\n",
    "\n",
    "**NOTE:** *This part of the first assignment is by necessity somewhat tedious as its primary purpose is to introduce syntax, how to access and understand the Numpy documentation and some very basic concepts. If you are already familiar with Numpy, you can just read the **TASK** headings and complete the questions without worrying about all the additional information. This is designed for people who have never seen Numpy before, so it's a very easy 1st year style introduction to just introduce syntax.*\n",
    "\n",
    "*As this is a third year subject, it is assumed you already know to to program well (but may be unfamiliar with Python and Numpy).*\n",
    "\n",
    "---\n",
    "\n",
    "Arguably the most fundamental tool needed to engage with machine learning in Python is Numpy *(np)*. To include Numpy in any project, simply type the following line at the top of your python file:"
   ]
  },
  {
   "cell_type": "code",
   "execution_count": 1,
   "metadata": {},
   "outputs": [
    {
     "name": "stdout",
     "output_type": "stream",
     "text": [
      "Requirement already satisfied: sympy in /Users/zhangruotian/opt/anaconda3/envs/comp3670/lib/python3.7/site-packages (1.10.1)\r\n",
      "Requirement already satisfied: mpmath>=0.19 in /Users/zhangruotian/opt/anaconda3/envs/comp3670/lib/python3.7/site-packages (from sympy) (1.2.1)\r\n"
     ]
    }
   ],
   "source": [
    "# numpy\n",
    "import numpy as np\n",
    "\n",
    "!pip install sympy\n",
    "import sympy as sp\n",
    "\n",
    "# matplotlib\n",
    "import matplotlib.pyplot as plt\n",
    "%matplotlib inline"
   ]
  },
  {
   "cell_type": "markdown",
   "metadata": {},
   "source": [
    "A Jupyter Notebook is divided into cells, each of which works like a Python module or Latex file. When a cell is run, any cells that follow it will have access to its results. Running the above cell will give all following cells access to the Numpy library.\n",
    "\n",
    "-----------\n",
    "\n",
    "   **TASK 0.1:** To run the above cell, select it by clicking on it, hold **shift** and press **return**. If you have succeeded, then the cell will print \"Done\" just above.\n",
    "\n",
    "\n",
    "-----------\n",
    "\n",
    "Numpy is a library of common mathematical data structures and algorithms used in machine learning. For example:\n",
    "\n",
    "- It allows you to declare vectors and matrices, with all the associated mathematical operations like matrix vector products, matrix addition / subtraction.\n",
    "- It provides convenient, efficient implementations of algorithms to solve matrix equations, find the inverse of a matrix or perform Eigen decomposition. The implementation of these algorithms is compiled from C code, making Numpy much faster than programming these algorithms yourself in Python.\n",
    "\n",
    "You'll need to know Numpy inside and out. We'll start by getting you familiar with the easy to access online documentation and performing a few basic operations.\n",
    "\n",
    "Below I have declared the matrices: \n",
    "\n",
    "$$A = \n",
    "\\begin{bmatrix}\n",
    "2&3\\\\\n",
    "0&1\\\\\n",
    "\\end{bmatrix}\n",
    "\\\\\n",
    "x = \n",
    "\\begin{bmatrix}\n",
    "1\\\\\n",
    "3\\\\\n",
    "\\end{bmatrix}\n",
    "$$. \n",
    "\n",
    "---\n",
    "**TASK 0.2:** Run the cell below and observe what it prints.\n",
    "\n",
    "\n",
    "---\n",
    "(If it throws an error, you have the wrong version of python installed. This entire course will use Python 3, not Python 2)\n",
    "\n"
   ]
  },
  {
   "cell_type": "code",
   "execution_count": 2,
   "metadata": {},
   "outputs": [
    {
     "name": "stdout",
     "output_type": "stream",
     "text": [
      "\n",
      "Matrix Multiplication\n",
      "[[11]\n",
      " [ 3]]\n"
     ]
    }
   ],
   "source": [
    "A = np.array([[2, 3], [0, 1]])\n",
    "x = np.array([[1], [3]])\n",
    "\n",
    "#Matrix Multiplication Example\n",
    "b = A @ x\n",
    "print('\\nMatrix Multiplication')\n",
    "print(b)"
   ]
  },
  {
   "cell_type": "markdown",
   "metadata": {},
   "source": [
    "The above code illustrates how to perform matrix multiplication. Memorise it. Below are some other basic operations you'll likely need over the coming semester:"
   ]
  },
  {
   "cell_type": "code",
   "execution_count": 3,
   "metadata": {},
   "outputs": [
    {
     "name": "stdout",
     "output_type": "stream",
     "text": [
      "\n",
      "Matrix Addition\n",
      "[[3 4]\n",
      " [3 4]]\n",
      "\n",
      "Elementwise Matrix Multiplication\n",
      "[[2 3]\n",
      " [0 3]]\n",
      "\n",
      "Single Element Extraction\n",
      "2\n",
      "\n",
      "Column Extraction\n",
      "[2 0]\n",
      "\n",
      "Row Extraction\n",
      "[2 3]\n",
      "\n",
      "Transpose\n",
      "[[2 0]\n",
      " [3 1]]\n"
     ]
    }
   ],
   "source": [
    "#Matrix Addition Example\n",
    "b = A + x\n",
    "print('\\nMatrix Addition')\n",
    "print(b)\n",
    "\n",
    "#Elementwise Multiplication Example\n",
    "b = A * x\n",
    "print('\\nElementwise Matrix Multiplication')\n",
    "print(b)\n",
    "\n",
    "#Extract a single element of a matrix:\n",
    "print('\\nSingle Element Extraction')\n",
    "b = A[0, 0]\n",
    "print(b)\n",
    "\n",
    "#Extract an entire column of a matrix:\n",
    "print('\\nColumn Extraction')\n",
    "b = A[:, 0]\n",
    "print(b)\n",
    "\n",
    "#Extract an entire row of a matrix:\n",
    "print('\\nRow Extraction')\n",
    "b = A[0, :]\n",
    "print(b)\n",
    "\n",
    "#Transpose of a matrix:\n",
    "print('\\nTranspose')\n",
    "A_Transpose = A.T\n",
    "print(A_Transpose)"
   ]
  },
  {
   "cell_type": "markdown",
   "metadata": {},
   "source": [
    "## Task1: Solving a system of linear equations\n",
    "---\n",
    "\n",
    "A vital part of linear algebra is to know how to solve a system of linear equations. For e.g. \n",
    "\n",
    "$$a_{11}x_1+a_{12}x_2 \\dots a_{1d}x_d=b_1$$\n",
    "$$a_{21}x_1+a_{22}x_2 \\dots a_{2d}x_d=b_2$$\n",
    "$$\\vdots$$\n",
    "$$a_{n1}x_1+a_{n2}x_2 \\dots a_{nd}x_d=b_n$$\n",
    "\n",
    "The above system of linear equations can also be written down in a compact matrix form as follows:\n",
    "\n",
    "$$AX = B$$\n",
    "\n",
    "where,\n",
    "$$A = \\begin{bmatrix}\n",
    "a_{11} & \\dots & a_{1d}\\\\\n",
    "\\vdots & \\ddots & \\vdots \\\\\n",
    "a_{n1} & \\dots & a_{nd}\n",
    "\\end{bmatrix}, \\quad\n",
    "B = \\begin{bmatrix}\n",
    "b_1 \\\\ \\vdots \\\\ b_n\n",
    "\\end{bmatrix}, \\quad\n",
    "X = \\begin{bmatrix}\n",
    "x_1 \\\\ \\vdots \\\\ x_d\n",
    "\\end{bmatrix}.\n",
    "$$"
   ]
  },
  {
   "cell_type": "markdown",
   "metadata": {},
   "source": [
    "---\n",
    "**Task 1.1**: Use numpy's solve function to compute X\n",
    "\n",
    "---\n",
    "**HINT**: https://docs.scipy.org/doc/numpy/reference/generated/numpy.linalg.solve.html"
   ]
  },
  {
   "cell_type": "code",
   "execution_count": 4,
   "metadata": {},
   "outputs": [
    {
     "name": "stdout",
     "output_type": "stream",
     "text": [
      "[[-0.5]\n",
      " [ 0.5]\n",
      " [ 1. ]]\n"
     ]
    }
   ],
   "source": [
    "# define A,B\n",
    "A = np.array([[2, 0, 3], [1, -1, 2], [1, -3, 4]])\n",
    "B = np.array([[2], [1], [2]])\n",
    "\n",
    "def solve_with_numpy(A,B):\n",
    "    return np.linalg.solve(A, B)\n",
    "\n",
    "# show solution\n",
    "X = solve_with_numpy(A,B)\n",
    "print (X)"
   ]
  },
  {
   "cell_type": "markdown",
   "metadata": {},
   "source": [
    "A more hands on way for solving for X, involves computing first computing the inverse of the matrix $A$\n",
    "\n",
    "---\n",
    "**Task 1.2**: Use numpy's inbuilt method for computing the inverse of the matrix $A$\n",
    "\n",
    "---\n",
    "\n",
    "**HINT**: https://docs.scipy.org/doc/numpy/reference/generated/numpy.linalg.inv.html"
   ]
  },
  {
   "cell_type": "code",
   "execution_count": 5,
   "metadata": {},
   "outputs": [
    {
     "name": "stdout",
     "output_type": "stream",
     "text": [
      "[[-1. -2.]\n",
      " [ 1.  3.]]\n"
     ]
    }
   ],
   "source": [
    "A = np.array([[-3, -2], [1, 1]])\n",
    "\n",
    "A_inv = np.linalg.inv(A)\n",
    "print(A_inv)"
   ]
  },
  {
   "cell_type": "markdown",
   "metadata": {},
   "source": [
    "---\n",
    "**Task 1.3**: Use the inverse of matrix $A$, to solve for $X$\n",
    "\n",
    "---"
   ]
  },
  {
   "cell_type": "code",
   "execution_count": 6,
   "metadata": {},
   "outputs": [
    {
     "name": "stdout",
     "output_type": "stream",
     "text": [
      "[[-16.]\n",
      " [ 22.]]\n"
     ]
    }
   ],
   "source": [
    "A = np.array([[-3, -2], [1, 1]])\n",
    "B = np.array([[4], [6]])\n",
    "\n",
    "X = np.linalg.inv(A)@B\n",
    "\n",
    "print(X)"
   ]
  },
  {
   "cell_type": "markdown",
   "metadata": {},
   "source": [
    "But what if $A$ is not a square matrix?\n",
    "\n",
    "---\n",
    "**Task 1.4**: Compute the Moore-Penrose pseudo inverse for matrix $A$ and use it for computing $X$. Note that, you must not directly use `np.linalg.pinv` for computing the pseudo-inverse.\n",
    "\n",
    "---\n",
    "\n",
    "**HINT**: https://en.wikipedia.org/wiki/Moore–Penrose_inverse"
   ]
  },
  {
   "cell_type": "code",
   "execution_count": 7,
   "metadata": {},
   "outputs": [
    {
     "name": "stdout",
     "output_type": "stream",
     "text": [
      "[[-0.00544323 -0.02799378  0.21228616]\n",
      " [ 0.05287714  0.12908243 -0.0622084 ]]\n",
      "[[1.]\n",
      " [4.]]\n"
     ]
    }
   ],
   "source": [
    "A = np.array([[1, 3], [2, 7], [5, 1]])\n",
    "B = np.array([[13], [30], [9]])\n",
    "\n",
    "A_pseudo_inverse = np.linalg.inv(A.T@A)@A.T\n",
    "X =  A_pseudo_inverse@B\n",
    "\n",
    "print(A_pseudo_inverse)\n",
    "print(X)"
   ]
  },
  {
   "cell_type": "markdown",
   "metadata": {},
   "source": [
    "## Task 2: Solving a system of linear equations with Gaussian elimination"
   ]
  },
  {
   "cell_type": "markdown",
   "metadata": {},
   "source": [
    "In the last task, we used numpy's inbulit functions to solve a system of linear equations. Lets do it without using these functions!\n",
    "\n",
    "---\n",
    "**Task 2.1**:  Complete the following gaussian elimnation function to compute the **reduced row-echelon form** of matrix $A$. You must implement the gaussian elimination algorithm yourself, not merely call someone else's library function. You **MUST NOT** copy codes from any source. Your function needs to work under **different shapes** of matrix. Negative zero is a result of the floating-point number standard. If you have some -0s instead of 0s, that should be fine.\n",
    "\n",
    "---"
   ]
  },
  {
   "cell_type": "code",
   "execution_count": 8,
   "metadata": {},
   "outputs": [],
   "source": [
    "def gaussian_elim(X):\n",
    "    m, n = X.shape\n",
    "    res = np.array(X, dtype=np.float64)\n",
    "    h = 0\n",
    "    k = 0\n",
    "    lead = 0\n",
    "    while h < res.shape[0] and k < res.shape[1]:\n",
    "        i_max = np.argmax(np.abs(res[h:, k])) + h\n",
    "        if abs(res[i_max][k]) < 1e-10:\n",
    "            k += 1\n",
    "        else:\n",
    "            tmp = np.copy(res[h])\n",
    "            res[h] = res[i_max]\n",
    "            res[i_max] = tmp\n",
    "            for i in range(h + 1, res.shape[0]):\n",
    "                f = res[i][k] / res[h][k]\n",
    "                res[i][k] = 0\n",
    "                res[i][k + 1:] -= res[h][k + 1:] * f\n",
    "            h += 1\n",
    "            k += 1\n",
    "            lead += 1\n",
    "    while lead > 0:\n",
    "        h = lead - 1\n",
    "        for i in range(0, res.shape[1]):\n",
    "            if abs(res[h][i]) > 1e-10:\n",
    "                pivot = res[h][i]\n",
    "                pivot_arg = i\n",
    "                break\n",
    "        res[h] = res[h] / pivot\n",
    "        for i in range(0, h):\n",
    "            f = res[i][pivot_arg]\n",
    "            res[i] = res[i] - f * res[h]\n",
    "        lead -= 1\n",
    "    res[abs(res) < 1e-10] = 0\n",
    "    return res"
   ]
  },
  {
   "cell_type": "code",
   "execution_count": 9,
   "metadata": {},
   "outputs": [
    {
     "name": "stdout",
     "output_type": "stream",
     "text": [
      "[[ 1.  0.  0. -1.]\n",
      " [ 0.  1.  0. -1.]\n",
      " [ 0.  0.  1.  2.]\n",
      " [ 0.  0.  0.  0.]\n",
      " [ 0.  0.  0.  0.]]\n"
     ]
    }
   ],
   "source": [
    "A = np.array([[1, 0, 1, 1],\n",
    "             [1, 0, 1, 1],\n",
    "             [0, 1, 1, 1],\n",
    "             [1, 1, 1, 0],\n",
    "             [1, 1, 1, 0]], dtype=np.float64)\n",
    "print(gaussian_elim(A))\n",
    "#The result should look like\n",
    "# [[ 1.,  0.,  0., -1.],\n",
    "#  [ 0.,  1.,  0., -1.],\n",
    "#  [-0., -0.,  1.,  2.],\n",
    "#  [ 0.,  0.,  0.,  0.],\n",
    "#  [ 0.,  0.,  0.,  0.]]"
   ]
  },
  {
   "cell_type": "code",
   "execution_count": 10,
   "metadata": {},
   "outputs": [
    {
     "name": "stdout",
     "output_type": "stream",
     "text": [
      "[[ 1.          0.          0.          0.36363636 -0.81818182  0.18181818]\n",
      " [ 0.          1.          0.         -0.18181818  0.90909091 -0.09090909]\n",
      " [ 0.          0.          1.          0.09090909  0.54545455  0.54545455]]\n"
     ]
    }
   ],
   "source": [
    "B = np.array([[2, 0, 3, 1, 0, 2],\n",
    "             [1, 3, 2, 0, 3, 1],\n",
    "             [3, 2, 3, 1, 1, 2]])\n",
    "print(gaussian_elim(B))\n",
    "#The result should look like\n",
    "# [[ 1.          0.          0.          0.36363636 -0.81818182  0.18181818]\n",
    "#  [ 0.          1.          0.         -0.18181818  0.90909091 -0.09090909]\n",
    "#  [ 0.          0.          1.          0.09090909  0.54545455  0.54545455]]"
   ]
  },
  {
   "cell_type": "markdown",
   "metadata": {},
   "source": [
    "We will evaluate your code with many different matrices."
   ]
  },
  {
   "cell_type": "code",
   "execution_count": 11,
   "metadata": {},
   "outputs": [
    {
     "data": {
      "text/plain": [
       "True"
      ]
     },
     "execution_count": 11,
     "metadata": {},
     "output_type": "execute_result"
    }
   ],
   "source": [
    "# test your gaussian_elim function\n",
    "def test_gaussian_elim():\n",
    "    for i in range(100):\n",
    "        m, n = np.random.randint(low=5, high=10, size=2)\n",
    "        a = np.random.randn(m, n)\n",
    "        sol1 = gaussian_elim(a)\n",
    "        sol2 = np.array(sp.Matrix(a).rref()[0])\n",
    "        if np.sum((sol1 - sol2) ** 2) > 1e-6:\n",
    "            print(a, \"\\n\")\n",
    "            print(gaussian_elim(a), \"\\n\")\n",
    "            print(np.array(sp.Matrix(a).rref()[0]), \"\\n\")\n",
    "            return False\n",
    "    test_cases = [np.array([[2, 0, 1, 1],\n",
    "                            [2, 0, 1, 1],\n",
    "                            [0, 0, 0, 0],\n",
    "                            [1, 1, 1, 0]], dtype=np.float64),\n",
    "                  np.array([[1, 2, 3],\n",
    "                            [4, 5, 6],\n",
    "                            [7, 8, 9]], dtype=np.float64),\n",
    "                  ]\n",
    "    for test in test_cases:\n",
    "        sol1 = gaussian_elim(test)\n",
    "        sol2 = np.array(sp.Matrix(test).rref()[0])\n",
    "        if np.sum((sol1 - sol2) ** 2) > 1e-6:\n",
    "            print(test, \"\\n\")\n",
    "            print(gaussian_elim(test), \"\\n\")\n",
    "            print(np.array(sp.Matrix(test).rref()[0]), \"\\n\")\n",
    "            return False\n",
    "    return True\n",
    "test_gaussian_elim()"
   ]
  },
  {
   "cell_type": "markdown",
   "metadata": {},
   "source": [
    "---\n",
    "**Task 2.2**: A system of linear equations is called homogeneous if the right hand side is the zero vector. Sometimes there will be only trivial solution, namely the zero vector. An example of this matrix is:\n",
    "$$2x_1+4x_2 =0$$\n",
    "$$2x_1+5x_2 =0$$\n",
    "Sometimes there will be non-trivial solutions, e.g.,\n",
    "$$2x_1+4x_2 =0$$\n",
    "$$1x_1+2x_2 =0$$\n",
    "The solution can be $x_1 =-2$, $x_2 =1$.\n",
    " \n",
    "$A=\\big(\\begin{smallmatrix}\n",
    "  2 & 4\\\\\n",
    "  1 & 2\n",
    "\\end{smallmatrix}\\big)$ is called coefficient matrix.\n",
    "Your task is solving a homogeneous system of linear equations based on its reduced row-echelon form, i.e., the output of your *gaussian_elim* function in Task 2.1. You **MUST NOT** revoke any numpy inbuilt functions you used in Task 1. Your function needs to work under **different shapes** of $A$. \n",
    "\n",
    "The *solve_homogeneous* function should be according to the following specifications:\n",
    "* Take as input the coefficient matrix $A$. \n",
    "* Return:\n",
    "    - 0 if it only has trivial solution. Type: int.\n",
    "    - otherwise, return any two different non-trivial solutions. Type: tuple((np.ndarray, Type: np.ndarray)).  Note that the dimensions of the np.ndarray should be 1, i.e., using one pair of square brackets. See demo outputs below."
   ]
  },
  {
   "cell_type": "code",
   "execution_count": 12,
   "metadata": {},
   "outputs": [],
   "source": [
    "def find_pivot_pos(rref, m, n):\n",
    "    pivot_pos = []\n",
    "    for i in range(m):\n",
    "        pos = np.where(rref[i] == 1)[0]\n",
    "        if len(pos) > 0:\n",
    "            pivot_pos.append(pos[0])\n",
    "    free_var_pos = [p for p in range(n - 1) if p not in pivot_pos]\n",
    "    return pivot_pos, free_var_pos\n",
    "\n",
    "\n",
    "# solve homogeneous or non-homogeneous system of equations when they have one or more solutions\n",
    "def solve(rref):\n",
    "    m, n = rref.shape\n",
    "    pivot_pos, free_var_pos = find_pivot_pos(rref, m, n)\n",
    "    res = [[0 for _ in range(n - len(pivot_pos))] for _ in range(n - 1)]\n",
    "    i = 0\n",
    "    while i <= m - 1:\n",
    "        j = 0\n",
    "        while j <= n - 2:\n",
    "            if rref[i, j] == 1 and j in pivot_pos:\n",
    "                pj = j\n",
    "                res[j][0] = rref[i, n - 1]\n",
    "            if rref[i, j] != 0 and j not in pivot_pos:\n",
    "                k = free_var_pos.index(j) + 1\n",
    "                res[pj][k] = -rref[i, j]\n",
    "            j += 1\n",
    "        i += 1\n",
    "    k = 1\n",
    "    j = 0\n",
    "    while j <= n - 2:\n",
    "        if j in free_var_pos:\n",
    "            res[j][k] = 1\n",
    "            k += 1\n",
    "        j += 1\n",
    "    return np.array(res)"
   ]
  },
  {
   "cell_type": "code",
   "execution_count": 13,
   "metadata": {},
   "outputs": [],
   "source": [
    "def solve_homogeneous(A):\n",
    "    # YOUR CODE HERE\n",
    "    m, n = A.shape\n",
    "    rref = gaussian_elim(A)\n",
    "    rank = 0\n",
    "    for i in range(m):\n",
    "        if np.any(rref[i]):\n",
    "            rank += 1\n",
    "    if rank == n:\n",
    "        return 0\n",
    "    else:\n",
    "        rref = np.column_stack((rref, np.zeros(m)))\n",
    "        res = solve(rref)\n",
    "        return np.sum(res, axis=1), 2 * np.sum(res, axis=1)"
   ]
  },
  {
   "cell_type": "code",
   "execution_count": 14,
   "metadata": {},
   "outputs": [
    {
     "name": "stdout",
     "output_type": "stream",
     "text": [
      "0\n"
     ]
    }
   ],
   "source": [
    "A = np.array([[2, 2, 3],\n",
    "              [4, 5, 6],\n",
    "              [7, 8, 9]], dtype=np.float64)\n",
    "print(solve_homogeneous(A))\n",
    "#The result should look like\n",
    "# 0"
   ]
  },
  {
   "cell_type": "code",
   "execution_count": 15,
   "metadata": {},
   "outputs": [
    {
     "name": "stdout",
     "output_type": "stream",
     "text": [
      "(array([-3. , -0.5,  1. ]), array([-6., -1.,  2.]))\n"
     ]
    }
   ],
   "source": [
    "B = np.array([[1, 2, 4],\n",
    "              [1, 2, 4],\n",
    "              [1, 8, 7]], dtype=np.float64)\n",
    "print(solve_homogeneous(B))\n",
    "#The result should look like\n",
    "# (array([-3. , -0.5,  1. ]), array([-6., -1.,  2.]))\n",
    "\n",
    "# Note that results are not unique"
   ]
  },
  {
   "cell_type": "code",
   "execution_count": 16,
   "metadata": {},
   "outputs": [
    {
     "name": "stdout",
     "output_type": "stream",
     "text": [
      "(array([ 1., -2.,  1.]), array([ 2., -4.,  2.]))\n"
     ]
    }
   ],
   "source": [
    "C = np.array([[1, 2, 3],\n",
    "              [4, 5, 6]], dtype=np.float64)\n",
    "print(solve_homogeneous(C))\n",
    "#The result should look like\n",
    "# (array([ 1., -2.,  1.]), array([ 2., -4.,  2.]))\n",
    "\n",
    "# Note that results are not unique"
   ]
  },
  {
   "cell_type": "code",
   "execution_count": 17,
   "metadata": {},
   "outputs": [
    {
     "name": "stdout",
     "output_type": "stream",
     "text": [
      "0\n"
     ]
    }
   ],
   "source": [
    "D = np.array([[1, 2],\n",
    "              [3, 4],\n",
    "              [5, 6]], dtype=np.float64)\n",
    "print(solve_homogeneous(D))\n",
    "#The result should look like\n",
    "# 0"
   ]
  },
  {
   "cell_type": "markdown",
   "metadata": {},
   "source": [
    "We will evaluate your code with many different matrices."
   ]
  },
  {
   "cell_type": "code",
   "execution_count": 18,
   "metadata": {},
   "outputs": [
    {
     "name": "stdout",
     "output_type": "stream",
     "text": [
      "True\n",
      "True\n"
     ]
    }
   ],
   "source": [
    "def test_homogeneous_trivial():\n",
    "    # test A with m>n and m=n but no dependent rows in it\n",
    "    for i in range(1000):\n",
    "        m = np.random.randint(low=4, high=6)\n",
    "        n = np.random.randint(low=2, high=5)\n",
    "        a = np.random.randn(m, n)\n",
    "        res = solve_homogeneous(a)\n",
    "        if res != 0:\n",
    "            print(a, '\\n')\n",
    "            print(f' solution should be 0 but got {res}')\n",
    "            return False\n",
    "    # test A with m>n and there are dependent rows in it\n",
    "    test_list = [\n",
    "        np.array([[1, 2], [3, 4], [2, 4]]),\n",
    "        np.array([[1, 2, 3], [2, 4, 6], [3, 4, 5], [4, 7, 9]]),\n",
    "    ]\n",
    "    for case in test_list:\n",
    "        res = solve_homogeneous(case)\n",
    "        if res != 0:\n",
    "            print(a, '\\n')\n",
    "            print(f' solution should be 0 but got {res}')\n",
    "            return False\n",
    "    return True\n",
    "\n",
    "def test_homogeneous_nontrivial():\n",
    "    import random\n",
    "    # test A with m=n and m<n\n",
    "    for i in range(1000):\n",
    "        m = np.random.randint(low=2, high=5)\n",
    "        n = np.random.randint(low=4, high=6)\n",
    "        a = np.random.randn(m, n)\n",
    "        a_ = a.copy()\n",
    "        # create matrices whose rows or columns are dependent\n",
    "        dpdt = random.sample(range(0, m), np.random.randint(low=2, high=m + 1))\n",
    "        duplicate = a[dpdt[0]]\n",
    "        for row in dpdt:\n",
    "            a[row] = duplicate\n",
    "        x1 = np.expand_dims(solve_homogeneous(a)[0], axis=1)\n",
    "        x2 = np.expand_dims(solve_homogeneous(a)[1], axis=1)\n",
    "        if abs(np.sum(a @ x1)) > 1e-6 or abs(np.sum(a @ x2)) > 1e-6 or (x1==x2).all():\n",
    "            print(a_, '\\n')\n",
    "            print('the solutions are not correct')\n",
    "            return False\n",
    "    # test A with m>n\n",
    "    test_list = [\n",
    "        np.array([[1, 2], [1, 2], [2, 4]]),\n",
    "        np.array([[1, 2, 3], [3, 6, 9], [1, 2, 3], [4, 7, 9]]),\n",
    "        np.array([[1, 2, 3], [4, 5, 6], [7, 8, 9]])\n",
    "    ]\n",
    "    for case in test_list:\n",
    "        x1 = np.expand_dims(solve_homogeneous(case)[0], axis=1)\n",
    "        x2 = np.expand_dims(solve_homogeneous(case)[1], axis=1)\n",
    "        if abs(np.sum(case @ x1)) > 1e-6 or abs(np.sum(case @ x2)) > 1e-6 or (x1==x2).all():\n",
    "            print(a_, '\\n')\n",
    "            print('the solutions are not correct')\n",
    "            return False\n",
    "    return True\n",
    "\n",
    "print(test_homogeneous_trivial())\n",
    "print(test_homogeneous_nontrivial())"
   ]
  },
  {
   "cell_type": "markdown",
   "metadata": {},
   "source": [
    "---\n",
    "**Task 2.3**: A system of linear equations is called non-homogeneous if the right hand side is not the zero vector. A non-homogeneous system of linear equations has\n",
    "* no solution, or\n",
    "* a unique solution, or\n",
    "* infinite number of solutions\n",
    "\n",
    "Similar to Task 2.2, your task is solving a non-homogeneous system of linear equations. You **MUST NOT** revoke any numpy inbuilt functions you used in Task 1, however, you are allowed to use the functions you defined in Task 2.2. Your function needs to work under **different shapes** of augmented matrix $[A|b]$. \n",
    "\n",
    "The *solve_nonhomogeneous* function should be according to following specifications:\n",
    "* Take as input the augmented matrix $[A|b]$. \n",
    "* Return:\n",
    "    - None if it has no solution at all. Type: None.\n",
    "    - the single solution if it only has one solution. Type: np.ndarray.\n",
    "    - otherwise, return any two different solutions if it has more than one solutions. Type: tuple((np.ndarray, Type: np.ndarray)).\n",
    "*  Note that the dimensions of the np.ndarray should be 1, especially, one pair of square brackets. See demo outputs below.    "
   ]
  },
  {
   "cell_type": "code",
   "execution_count": 19,
   "metadata": {},
   "outputs": [],
   "source": [
    "def solve_nonhomogeneous(A_aug):\n",
    "    # YOUR CODE HERE\n",
    "    rref = gaussian_elim(A_aug)\n",
    "    rank_A, rank_aug = 0, 0\n",
    "    for i in range(A_aug.shape[0]):\n",
    "        if np.any(rref[i]):\n",
    "            rank_aug += 1\n",
    "        if np.any(rref[i][:-1]):\n",
    "            rank_A += 1\n",
    "    if rank_A != rank_aug:\n",
    "        return None\n",
    "    else:\n",
    "        res = solve(rref)\n",
    "        if res.shape[1] == 1:\n",
    "            return np.squeeze(res)\n",
    "        else:\n",
    "            return res[:, 0] + np.sum(res[:, 1:],axis=1), res[:, 0] + 2 * np.sum(res[:, 1:],axis=1)"
   ]
  },
  {
   "cell_type": "code",
   "execution_count": 20,
   "metadata": {},
   "outputs": [
    {
     "name": "stdout",
     "output_type": "stream",
     "text": [
      "None\n"
     ]
    }
   ],
   "source": [
    "A = np.array([\n",
    "    [1, 2, 3, 1],\n",
    "    [2, 4, 6, 3],\n",
    "    [7, 8, 9, 4]\n",
    "])\n",
    "print(solve_nonhomogeneous(A))\n",
    "#The result should look like\n",
    "# None"
   ]
  },
  {
   "cell_type": "code",
   "execution_count": 21,
   "metadata": {},
   "outputs": [
    {
     "name": "stdout",
     "output_type": "stream",
     "text": [
      "[ 2. -1.  4.]\n"
     ]
    }
   ],
   "source": [
    "B = np.array([\n",
    "    [1, 0, 1, 6],\n",
    "    [0, -3, 1, 7],\n",
    "    [2, 1, 3, 15]\n",
    "])\n",
    "print(solve_nonhomogeneous(B))\n",
    "#The result should look like\n",
    "# [ 2. -1.  4.]"
   ]
  },
  {
   "cell_type": "code",
   "execution_count": 22,
   "metadata": {},
   "outputs": [
    {
     "name": "stdout",
     "output_type": "stream",
     "text": [
      "(array([ 1. , -1.5,  1. ]), array([ 2. , -3.5,  2. ]))\n"
     ]
    }
   ],
   "source": [
    "C = np.array([\n",
    "    [1, 2, 3, 1],\n",
    "    [2, 4, 6, 2],\n",
    "    [7, 8, 9, 4]\n",
    "])\n",
    "print(solve_nonhomogeneous(C))\n",
    "#The result should look like\n",
    "# (array([ 1. , -1.5,  1. ]), array([ 2. , -3.5,  2. ]))"
   ]
  },
  {
   "cell_type": "markdown",
   "metadata": {},
   "source": [
    "We will evaluate your code with multiple different matrices."
   ]
  },
  {
   "cell_type": "code",
   "execution_count": 23,
   "metadata": {},
   "outputs": [
    {
     "name": "stdout",
     "output_type": "stream",
     "text": [
      "True\n",
      "True\n",
      "True\n"
     ]
    }
   ],
   "source": [
    "def test_nonhomogeneous_no_solution():\n",
    "    import random\n",
    "    for i in range(1000):\n",
    "        m = np.random.randint(low=3, high=6)\n",
    "        n = np.random.randint(low=3, high=6)\n",
    "        a = np.random.randn(m, n)\n",
    "        a_ = a.copy()\n",
    "        # create matrices whose rows conflict\n",
    "        cflt = random.sample(range(0, m), np.random.randint(low=2, high=m + 1))\n",
    "        duplicate = a[cflt[0]]\n",
    "        for row in cflt:\n",
    "            a[row] = duplicate\n",
    "            a[row][-1] = np.random.normal(loc=a[row][-1])\n",
    "        if solve_nonhomogeneous(a):\n",
    "            print(a_, '\\n')\n",
    "            print(f'the solution should be None, but got {solve_nonhomogeneous(a)}')\n",
    "            return False\n",
    "    return True\n",
    "\n",
    "def test_nonhomogeneous_single_solution():\n",
    "    # test square A\n",
    "    for i in range(1000):\n",
    "        m = np.random.randint(low=3, high=6)\n",
    "        n = m + 1\n",
    "        a = np.random.randn(m, n)\n",
    "        x = np.expand_dims(solve_nonhomogeneous(a), axis=1)\n",
    "        if abs(np.sum(a[:, :-1] @ x) - np.sum(a[:, -1])) > 1e-6:\n",
    "            print(a, '\\n')\n",
    "            print('the solution is not correct')\n",
    "            return False\n",
    "    test_list = [\n",
    "        np.array([[1, 1, 1], [1, 3, 3], [2, 2, 2]]),\n",
    "        np.array([[1, 2, 3, 2], [2, 4, 6, 4], [3, 6, 9, 6], [4, 7, 9, 10], [1, 2, 4, 7]]),\n",
    "    ]\n",
    "    # test A with m>n\n",
    "    for case in test_list:\n",
    "        x = np.expand_dims(solve_nonhomogeneous(case), axis=1)\n",
    "        if abs(np.sum(case[:, :-1] @ x) - np.sum(case[:, -1])) > 1e-6:\n",
    "            print(a, '\\n')\n",
    "            print('the solution is not correct')\n",
    "            return False\n",
    "    return True\n",
    "\n",
    "def test_nonhomogeneous_infinite_solution():\n",
    "    import random\n",
    "    for i in range(1000):\n",
    "        # test A with m=n and m<n whose rows are dependent\n",
    "        m = np.random.randint(low=2, high=5)\n",
    "        n = m + np.random.randint(low=1, high=4)\n",
    "        a = np.random.randn(m, n)\n",
    "        a_ = a.copy()\n",
    "        # create matrices whose rows or columns are dependent\n",
    "        dpdt = random.sample(range(0, m), np.random.randint(low=2, high=m + 1))\n",
    "        duplicate = a[dpdt[0]]\n",
    "        for row in dpdt:\n",
    "            a[row] = duplicate\n",
    "        x1 = np.expand_dims(solve_nonhomogeneous(a)[0], axis=1)\n",
    "        x2 = np.expand_dims(solve_nonhomogeneous(a)[1], axis=1)\n",
    "        if abs(np.sum(a[:, :-1] @ x1) - np.sum(a[:, -1])) > 1e-6 or abs(\n",
    "                np.sum(a[:, :-1] @ x2) - np.sum(a[:, -1])) > 1e-6 or (x1==x2).all():\n",
    "            print(a_, '\\n')\n",
    "            print('the solutions are not correct')\n",
    "            return False\n",
    "        # test A with m<n whose rows are not dependent\n",
    "        if n > m + 1:\n",
    "            x1 = np.expand_dims(solve_nonhomogeneous(a_)[0], axis=1)\n",
    "            x2 = np.expand_dims(solve_nonhomogeneous(a_)[1], axis=1)\n",
    "            if abs(np.sum(a[:, :-1] @ x1) - np.sum(a[:, -1])) > 1e-6 or abs(\n",
    "                    np.sum(a[:, :-1] @ x2) - np.sum(a[:, -1])) > 1e-6 or (x1==x2).all():\n",
    "                print(a_, '\\n')\n",
    "                print('the solutions are not correct')\n",
    "                return False\n",
    "    # test A with m>n whose rows are dependent\n",
    "    test_list = [\n",
    "        np.array([[1, 2, 3], [2, 4, 6], [3, 6, 9]]),\n",
    "        np.array([[1, 2, 3, 4], [2, 4, 6, 8], [1, 4, 7, 9], [1, 2, 3, 4], [2, 4, 6, 8]]),\n",
    "    ]\n",
    "    for case in test_list:\n",
    "        x1 = np.expand_dims(solve_nonhomogeneous(case)[0], axis=1)\n",
    "        x2 = np.expand_dims(solve_nonhomogeneous(case)[1], axis=1)\n",
    "        if abs(np.sum(case[:, :-1] @ x1) - np.sum(case[:, -1])) > 1e-6 or abs(\n",
    "                np.sum(case[:, :-1] @ x2) - np.sum(case[:, -1])) > 1e-6 or (x1==x2).all():\n",
    "            print(case, '\\n')\n",
    "            print('the solutions are not correct')\n",
    "            return False\n",
    "    return True\n",
    "\n",
    "print(test_nonhomogeneous_no_solution())\n",
    "print(test_nonhomogeneous_single_solution())\n",
    "print(test_nonhomogeneous_infinite_solution())"
   ]
  },
  {
   "cell_type": "markdown",
   "metadata": {},
   "source": [
    "## Task 3: Gram-Schmidt orthogonalization\n",
    "\n",
    "The Gram-Schmidt algorithm is used for finding an orthonormal basis for the subspace spanned by a set of vectors.\n",
    "\n",
    "Given a linearly independent set of vectors $S = \\lbrace \\mathbf{v_1}, \\mathbf{v_2}, ..., \\mathbf{v_n} \\rbrace$, an orthogonal set $S' = \\lbrace \\mathbf{u_1}, \\mathbf{u_2}, ..., \\mathbf{u_n} \\rbrace $ can be generated under this procedure:\n",
    "\n",
    "\n",
    "$\\mathbf{u_1} = \\mathbf{v_1}$\\\n",
    "$\\mathbf{u_2} = \\mathbf{v_2} - \\textrm{proj}_{\\mathbf{u_1}}(\\mathbf{v_2})$\\\n",
    "$\\mathbf{u_3} = \\mathbf{v_3} - \\textrm{proj}_{\\mathbf{u_1}}(\\mathbf{v_3}) - \\textrm{proj}_{\\mathbf{u_2}}(\\mathbf{v_3})$\\\n",
    "...\\\n",
    "$\\mathbf{u_n} = \\mathbf{v_n} - \\sum_{i=1}^{n-1}\\textrm{proj}_{\\mathbf{u_i}}(\\mathbf{v_n})$,\n",
    "\n",
    "where $\\textrm{proj}_{\\mathbf{u}}(\\mathbf{v}) = \\dfrac{\\langle \\mathbf{u}, \\mathbf{v} \\rangle}{\\langle \\mathbf{u}, \\mathbf{u} \\rangle}\\mathbf{u}$\n",
    "\n",
    "The orthogonal set is not normalized, you can normalize it by $\\mathbf{e_i} = \\dfrac{\\mathbf{u_i}}{||\\mathbf{u_i}||}$\n",
    "\n",
    "---\n",
    "**Read more:** https://en.wikipedia.org/wiki/Gram–Schmidt_process"
   ]
  },
  {
   "cell_type": "markdown",
   "metadata": {},
   "source": [
    "---\n",
    "**Task 3.1**: Implement a function that finds an orthonormal basis of row vectors for matrix $A$. The *gram_schmidt* function should be according to following specifications: \n",
    "* Take as input any matrix $A$.\n",
    "* Return a matrix with the orthonormal basis vectors as the rows.\n",
    "\n",
    "---\n",
    "**NOTE**: The resulting basis should be orthonormal, so each basis vector should be of norm 1."
   ]
  },
  {
   "cell_type": "code",
   "execution_count": 24,
   "metadata": {},
   "outputs": [],
   "source": [
    "# Find orthonormal basis using gram-schmidt \n",
    "def gram_schmidt(A):\n",
    "    A = A.T\n",
    "    res = np.copy(A[:,0:0])\n",
    "    for i in range(0, A.shape[1]):\n",
    "        v = np.copy(A[:,i]).astype(np.float64)\n",
    "        for j in range(0, res.shape[1]):\n",
    "            u = res[:,j]\n",
    "            diff_rate = (v@u)/(u@u)\n",
    "            v -= diff_rate * u\n",
    "        if (abs(sum(v * v)) > 1e-6):\n",
    "            res = np.c_[res, v]\n",
    "    res = res / np.sqrt(np.sum(res * res, axis = 0))\n",
    "    return res.T"
   ]
  },
  {
   "cell_type": "code",
   "execution_count": 25,
   "metadata": {},
   "outputs": [
    {
     "name": "stdout",
     "output_type": "stream",
     "text": [
      "[[ 0.         -0.33333333  0.66666667  0.          0.66666667]\n",
      " [ 0.37796447 -0.75592895 -0.37796447 -0.37796447  0.        ]\n",
      " [-0.57735027  0.         -0.57735027  0.          0.57735027]]\n"
     ]
    }
   ],
   "source": [
    "A = np.array([[0, -1, 2, 0, 2],\n",
    "              [1, -3, 1, -1, 2],\n",
    "              [-3, 4, 1, 2, 1],\n",
    "              [-1, -3, 5, 0, 7]])\n",
    "\n",
    "print(gram_schmidt(A))\n",
    "\n",
    "#The result should look like\n",
    "# [[ 0.         -0.33333333  0.66666667  0.          0.66666667]\n",
    "#  [ 0.37796447 -0.75592895 -0.37796447 -0.37796447  0.        ]\n",
    "#  [-0.57735027  0.         -0.57735027  0.          0.57735027]]"
   ]
  },
  {
   "cell_type": "markdown",
   "metadata": {},
   "source": [
    "We will evaluate your code with multiple different matrices."
   ]
  },
  {
   "cell_type": "markdown",
   "metadata": {},
   "source": [
    "---\n",
    "**TASK 3.2:** Implement a function that accepts a matrix and returns TRUE if all the rows of that matrix are orthogonal to one another, and each one of them is of length 1. Use this function to verify the output of your *gram_schmidt* function is actually correct. Again, you must program this function yourself, rather than relying on a library function.\n",
    "\n",
    "You can check whether your algorithms work using the last 6 lines in the code given below."
   ]
  },
  {
   "cell_type": "code",
   "execution_count": 26,
   "metadata": {},
   "outputs": [
    {
     "name": "stdout",
     "output_type": "stream",
     "text": [
      "\n",
      "CHECKING TRUE TEST (SHOULD RETURN TRUE):\n",
      "True\n",
      "\n",
      "CHECKING FALSE TEST (SHOULD RETURN FALSE):\n",
      "False\n"
     ]
    }
   ],
   "source": [
    "def orthogonality_checker(A):\n",
    "    # YOUR CODE HERE\n",
    "    A = A.T\n",
    "    is_orthogonal = True\n",
    "    for i in range(0, A.shape[1]):\n",
    "        v = A[:,i]\n",
    "        if (abs((v@v) - 1.0) > 1e-6):\n",
    "            return False\n",
    "        for j in range(0, i):\n",
    "            u = A[:,j]\n",
    "            if (abs(v@u) >1e-6):\n",
    "                return False\n",
    "    return True\n",
    "\n",
    "true_test = np.eye(3,3)\n",
    "false_test = np.ones((3,3))\n",
    "print('\\nCHECKING TRUE TEST (SHOULD RETURN TRUE):')\n",
    "print(orthogonality_checker(true_test))\n",
    "print('\\nCHECKING FALSE TEST (SHOULD RETURN FALSE):')\n",
    "print(orthogonality_checker(false_test))"
   ]
  },
  {
   "cell_type": "markdown",
   "metadata": {},
   "source": [
    "We will evaluate your code with multiple different matrices."
   ]
  },
  {
   "cell_type": "code",
   "execution_count": 27,
   "metadata": {},
   "outputs": [
    {
     "name": "stdout",
     "output_type": "stream",
     "text": [
      "Test A0 Pass\n",
      "Test A1 Pass\n",
      "Test B Pass\n",
      "Test C Pass\n",
      "Test Checker Pass\n"
     ]
    }
   ],
   "source": [
    "def gram_schmidt_alt(A):\n",
    "    A = A.T\n",
    "    res = np.copy(A[:,0:0])\n",
    "    for i in range(0, A.shape[1]):\n",
    "        v = np.copy(A[:,i]).astype(np.float64)\n",
    "        for j in range(0, res.shape[1]):\n",
    "            u = res[:,j]\n",
    "            diff_rate = (v@u)/(u@u)\n",
    "            v -= diff_rate * u\n",
    "        if (abs(sum(v * v)) > 1e-6):\n",
    "            res = np.c_[res, v]\n",
    "    res = res / np.sqrt(np.sum(res * res, axis = 0))\n",
    "    return res.T\n",
    "\n",
    "def orthogonality_checker_alt(A):\n",
    "    # check orthonormality: for an orthonormal matrix A@A.T = I\n",
    "    is_orthogonal = (np.sum(np.abs((A.T @ A - np.eye(A.shape[1])) ** 2)) < 1e-6)\n",
    "    return is_orthogonal\n",
    "\n",
    "def test_gram_schmidt_b():\n",
    "    for i in range(100):\n",
    "        m, n = np.random.randint(low=2, high=8, size=2)\n",
    "        m, n = min(m, n), max(m, n)\n",
    "        a = np.random.rand(m, n)\n",
    "        orthonormal_basis = gram_schmidt(a)\n",
    "        if not orthogonality_checker_alt(orthonormal_basis.T):\n",
    "            return False, a\n",
    "    return True, 0\n",
    "\n",
    "def test_gram_schmidt_c():\n",
    "    for i in range(100):\n",
    "        m, n = np.random.randint(low=2, high=8, size=2)\n",
    "        a = np.random.randint(low=0, high=3, size=(m, n))\n",
    "        orthonormal_basis = gram_schmidt(a)\n",
    "        if not orthogonality_checker_alt(orthonormal_basis.T):\n",
    "            return False, a\n",
    "    return True, 0\n",
    "\n",
    "def test_gram_schmidt():\n",
    "    try:\n",
    "        A0 = np.array([[1, 2], [2, 3], [3, 4]]).T\n",
    "        basis_A0 = gram_schmidt(A0)\n",
    "        a0_test = orthogonality_checker_alt(basis_A0.T)\n",
    "    except:\n",
    "        a0_test = False\n",
    "    try:\n",
    "        A1 = np.array([[0, 1, -3, -1],\n",
    "                       [-1, -3, 4, -3],\n",
    "                       [2, 1, 1, 5],\n",
    "                       [0, -1, 2, 0],\n",
    "                       [2, 2, 1, 7]]).T\n",
    "        basis_A1 = gram_schmidt(A1)\n",
    "        a1_test = orthogonality_checker_alt(basis_A1.T)\n",
    "    except:\n",
    "        a1_test = False\n",
    "    try:\n",
    "        b_test, _ = test_gram_schmidt_b()\n",
    "    except:\n",
    "        b_test = False\n",
    "    try:\n",
    "        c_test, _ = test_gram_schmidt_c()\n",
    "    except:\n",
    "        c_test = False\n",
    "    print(\"Test A0\", \"Pass\" if a0_test else \"Fail\")\n",
    "    print(\"Test A1\", \"Pass\" if a1_test else \"Fail\")\n",
    "    print(\"Test B\", \"Pass\" if b_test else \"Fail\")\n",
    "    print(\"Test C\", \"Pass\" if c_test else \"Fail\")\n",
    "\n",
    "def test_orthogonality_checker():\n",
    "    for i in range(100):\n",
    "        m, n = np.random.randint(low=2, high=8, size=2)\n",
    "        m, n = min(m, n), max(m, n)\n",
    "        a = np.random.rand(m, n)\n",
    "        orthonormal_basis = gram_schmidt_alt(a)\n",
    "        if not orthogonality_checker(orthonormal_basis):\n",
    "            print(\"Test Checker Fail\")\n",
    "    print(\"Test Checker Pass\")\n",
    "\n",
    "test_gram_schmidt()\n",
    "test_orthogonality_checker()"
   ]
  }
 ],
 "metadata": {
  "kernelspec": {
   "display_name": "Python 3 (ipykernel)",
   "language": "python",
   "name": "python3"
  },
  "language_info": {
   "codemirror_mode": {
    "name": "ipython",
    "version": 3
   },
   "file_extension": ".py",
   "mimetype": "text/x-python",
   "name": "python",
   "nbconvert_exporter": "python",
   "pygments_lexer": "ipython3",
   "version": "3.9.12"
  }
 },
 "nbformat": 4,
 "nbformat_minor": 2
}
